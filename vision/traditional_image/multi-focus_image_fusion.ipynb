{
 "cells": [
  {
   "cell_type": "code",
   "execution_count": 3,
   "metadata": {},
   "outputs": [],
   "source": [
    "import cv2\n",
    "import numpy as np\n",
    "import pywt\n",
    "\n",
    "def wavelet_decompose(img, wavelet='db1', level=2):\n",
    "    coeffs = pywt.wavedec2(img, wavelet=wavelet, level=level)\n",
    "    return coeffs\n",
    "\n",
    "def wavelet_reconstruct(coeffs, wavelet='db1'):\n",
    "    return pywt.waverec2(coeffs, wavelet=wavelet)\n",
    "\n",
    "def fuse_coeffs(coeffs1, coeffs2):\n",
    "    fused = []\n",
    "    for i in range(len(coeffs1)):\n",
    "        if i == 0:\n",
    "            # 저주파 성분 평균\n",
    "            fused.append((coeffs1[0] + coeffs2[0]) / 2)\n",
    "        else:\n",
    "            c1 = coeffs1[i]\n",
    "            c2 = coeffs2[i]\n",
    "            fused_subband = []\n",
    "            for j in range(len(c1)):\n",
    "                # 고주파 성분은 절댓값이 큰 쪽 선택\n",
    "                fused_subband.append(np.where(np.abs(c1[j]) > np.abs(c2[j]), c1[j], c2[j]))\n",
    "            fused.append(tuple(fused_subband))\n",
    "    return fused\n",
    "\n",
    "def multi_focus_fusion(img1, img2, wavelet='db1', level=2):\n",
    "    gray1 = cv2.cvtColor(img1, cv2.COLOR_BGR2GRAY)\n",
    "    gray2 = cv2.cvtColor(img2, cv2.COLOR_BGR2GRAY)\n",
    "\n",
    "    coeffs1 = wavelet_decompose(gray1, wavelet, level)\n",
    "    coeffs2 = wavelet_decompose(gray2, wavelet, level)\n",
    "\n",
    "    fused_coeffs = fuse_coeffs(coeffs1, coeffs2)\n",
    "    fused_img = wavelet_reconstruct(fused_coeffs, wavelet)\n",
    "    fused_img = np.clip(fused_img, 0, 255).astype(np.uint8)\n",
    "\n",
    "    return fused_img\n"
   ]
  },
  {
   "cell_type": "code",
   "execution_count": null,
   "metadata": {},
   "outputs": [],
   "source": [
    "\n",
    "# 이미지 로딩 (같은 크기의 이미지 2장)\n",
    "img1 = cv2.imread('focus_near.png')\n",
    "img2 = cv2.imread('focus_far.png')\n",
    "\n",
    "# 이미지 리사이즈 (같은 크기로 맞춤)\n",
    "img1 = cv2.resize(img1, (512, 512))\n",
    "img2 = cv2.resize(img2, (512, 512))\n",
    "\n",
    "fused = multi_focus_fusion(img1, img2, wavelet='db1', level=3)\n",
    "\n",
    "cv2.imwrite('fused_result.png', fused)\n",
    "cv2.imshow('Fused Image', fused)\n",
    "cv2.waitKey(0)\n",
    "cv2.destroyAllWindows()\n"
   ]
  },
  {
   "cell_type": "code",
   "execution_count": null,
   "metadata": {},
   "outputs": [],
   "source": []
  }
 ],
 "metadata": {
  "kernelspec": {
   "display_name": "Python 3",
   "language": "python",
   "name": "python3"
  },
  "language_info": {
   "codemirror_mode": {
    "name": "ipython",
    "version": 3
   },
   "file_extension": ".py",
   "mimetype": "text/x-python",
   "name": "python",
   "nbconvert_exporter": "python",
   "pygments_lexer": "ipython3",
   "version": "3.12.7"
  }
 },
 "nbformat": 4,
 "nbformat_minor": 2
}
