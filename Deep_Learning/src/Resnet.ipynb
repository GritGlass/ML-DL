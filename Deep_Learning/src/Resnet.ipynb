{
  "nbformat": 4,
  "nbformat_minor": 0,
  "metadata": {
    "colab": {
      "provenance": [],
      "gpuType": "T4"
    },
    "kernelspec": {
      "name": "python3",
      "display_name": "Python 3"
    },
    "language_info": {
      "name": "python"
    },
    "accelerator": "GPU"
  },
  "cells": [
    {
      "cell_type": "code",
      "execution_count": 1,
      "metadata": {
        "id": "YEnz5aZStDKI"
      },
      "outputs": [],
      "source": [
        "import torch\n",
        "import torch.nn as nn\n",
        "import tqdm\n",
        "from torchvision.datasets.cifar import CIFAR10\n",
        "from torchvision.transforms import ToTensor, Compose, RandomHorizontalFlip, RandomCrop, Normalize\n",
        "from torch.utils.data import DataLoader\n",
        "from torch.optim import Adam"
      ]
    },
    {
      "cell_type": "code",
      "source": [
        "class BasicBlock(nn.Module):\n",
        "  def __init__(self,in_channels,out_channels,kernel_size=3):\n",
        "    super(BasicBlock,self).__init__()\n",
        "\n",
        "    self.conv1 = nn.Conv2d(in_channels,out_channels,kernel_size=kernel_size,padding=1)\n",
        "    self.conv2 = nn.Conv2d(out_channels,out_channels,kernel_size=kernel_size,padding=1)\n",
        "\n",
        "    self.downsample=nn.Conv2d(in_channels,out_channels,kernel_size=1)\n",
        "\n",
        "    self.bn1 = nn.BatchNorm2d(num_features=out_channels)\n",
        "    self.bn2 = nn.BatchNorm2d(num_features=out_channels)\n",
        "\n",
        "    self.relu=nn.ReLU()\n",
        "\n",
        "  def forward(self,x):\n",
        "    x_=x\n",
        "\n",
        "    x=self.conv1(x)\n",
        "    x=self.bn1(x)\n",
        "    x=self.relu(x)\n",
        "\n",
        "    x=self.conv2(x)\n",
        "    x=self.bn2(x)\n",
        "\n",
        "    x_ = self.downsample(x_)\n",
        "\n",
        "    x +=x_\n",
        "    x=self.relu(x)\n",
        "\n",
        "    return x"
      ],
      "metadata": {
        "id": "IWTvf0n0tMti"
      },
      "execution_count": 2,
      "outputs": []
    },
    {
      "cell_type": "code",
      "source": [
        "class Resnet(nn.Module):\n",
        "  def __init__(self,num_classes=10):\n",
        "    super(Resnet,self).__init__()\n",
        "\n",
        "    self.b1=BasicBlock(in_channels=3,out_channels=64)\n",
        "    self.b2=BasicBlock(in_channels=64,out_channels=128)\n",
        "    self.b3=BasicBlock(in_channels=128,out_channels=256)\n",
        "\n",
        "    self.pool=nn.AvgPool2d(kernel_size=2,stride=2)\n",
        "\n",
        "    self.fc1=nn.Linear(in_features=4096,out_features=2048)\n",
        "    self.fc2=nn.Linear(in_features=2048,out_features=512)\n",
        "    self.fc3=nn.Linear(in_features=512,out_features=num_classes)\n",
        "\n",
        "    self.relu=nn.ReLU()\n",
        "\n",
        "  def forward(self,x):\n",
        "    x=self.b1(x)\n",
        "    x=self.pool(x)\n",
        "\n",
        "    x=self.b2(x)\n",
        "    x=self.pool(x)\n",
        "\n",
        "    x=self.b3(x)\n",
        "    x=self.pool(x)\n",
        "\n",
        "    x=torch.flatten(x,start_dim=1)\n",
        "\n",
        "    x=self.fc1(x)\n",
        "    x=self.relu(x)\n",
        "    x=self.fc2(x)\n",
        "    x=self.relu(x)\n",
        "    x=self.fc3(x)\n",
        "\n",
        "    return x"
      ],
      "metadata": {
        "id": "oUl4-eppuZUv"
      },
      "execution_count": 3,
      "outputs": []
    },
    {
      "cell_type": "code",
      "source": [
        "transforms=Compose([\n",
        "    RandomHorizontalFlip(p=0.5),\n",
        "    RandomCrop((32,32),padding=4),\n",
        "    ToTensor(),\n",
        "    Normalize(mean=(0.4914,0.4822,0.4465),std=(0.247,0.243,0.261))])\n",
        "\n",
        "training_data=CIFAR10(root='./data',train=True,download=True,transform=transforms)\n",
        "test_data=CIFAR10(root='./data',train=False,download=True,transform=transforms)\n",
        "\n",
        "train_loader=DataLoader(training_data,batch_size=32,shuffle=True)\n",
        "test_loader=DataLoader(test_data,batch_size=32,shuffle=False)"
      ],
      "metadata": {
        "colab": {
          "base_uri": "https://localhost:8080/"
        },
        "id": "lYLImyylvugd",
        "outputId": "5c4f8d79-235d-4356-e16b-11fdf1f6c8a7"
      },
      "execution_count": 4,
      "outputs": [
        {
          "output_type": "stream",
          "name": "stdout",
          "text": [
            "Downloading https://www.cs.toronto.edu/~kriz/cifar-10-python.tar.gz to ./data/cifar-10-python.tar.gz\n"
          ]
        },
        {
          "output_type": "stream",
          "name": "stderr",
          "text": [
            "100%|██████████| 170M/170M [00:03<00:00, 42.9MB/s]\n"
          ]
        },
        {
          "output_type": "stream",
          "name": "stdout",
          "text": [
            "Extracting ./data/cifar-10-python.tar.gz to ./data\n",
            "Files already downloaded and verified\n"
          ]
        }
      ]
    },
    {
      "cell_type": "code",
      "source": [
        "device = 'cuda' if torch.cuda.is_available() else 'cpu'\n",
        "\n",
        "model=Resnet(num_classes=10)\n",
        "model.to(device)\n",
        "\n",
        "lr=1e-4\n",
        "optim=Adam(model.parameters(),lr=lr)\n",
        "\n",
        "for epoch in range(30):\n",
        "  iter=tqdm.tqdm(train_loader)\n",
        "  for data, label in iter:\n",
        "    optim.zero_grad()\n",
        "\n",
        "    preds=model(data.to(device))\n",
        "\n",
        "    loss=nn.CrossEntropyLoss()(preds,label.to(device))\n",
        "    loss.backward()\n",
        "    optim.step()\n",
        "\n",
        "    iter.set_description(f'Epoch {epoch+1}')\n",
        "    iter.set_postfix({'loss':loss.item()})\n",
        "\n",
        "torch.save(model.state_dict(),'./Resnet_CIFAR10.pth')"
      ],
      "metadata": {
        "colab": {
          "base_uri": "https://localhost:8080/"
        },
        "id": "DeUizUBQwpyb",
        "outputId": "4cfded71-c974-45af-87e1-f42b8c07a6a8"
      },
      "execution_count": 5,
      "outputs": [
        {
          "output_type": "stream",
          "name": "stderr",
          "text": [
            "Epoch 1: 100%|██████████| 1563/1563 [01:09<00:00, 22.55it/s, loss=1.33]\n",
            "Epoch 2: 100%|██████████| 1563/1563 [00:56<00:00, 27.58it/s, loss=1.17]\n",
            "Epoch 3: 100%|██████████| 1563/1563 [00:59<00:00, 26.42it/s, loss=0.774]\n",
            "Epoch 4: 100%|██████████| 1563/1563 [00:50<00:00, 30.72it/s, loss=0.677]\n",
            "Epoch 5: 100%|██████████| 1563/1563 [00:53<00:00, 29.38it/s, loss=0.714]\n",
            "Epoch 6: 100%|██████████| 1563/1563 [00:48<00:00, 32.13it/s, loss=0.638]\n",
            "Epoch 7: 100%|██████████| 1563/1563 [00:49<00:00, 31.51it/s, loss=0.383]\n",
            "Epoch 8: 100%|██████████| 1563/1563 [00:48<00:00, 32.50it/s, loss=0.785]\n",
            "Epoch 9: 100%|██████████| 1563/1563 [00:48<00:00, 32.49it/s, loss=0.0968]\n",
            "Epoch 10: 100%|██████████| 1563/1563 [00:48<00:00, 32.35it/s, loss=0.483]\n",
            "Epoch 11: 100%|██████████| 1563/1563 [00:48<00:00, 32.45it/s, loss=0.129]\n",
            "Epoch 12: 100%|██████████| 1563/1563 [00:48<00:00, 32.16it/s, loss=0.515]\n",
            "Epoch 13: 100%|██████████| 1563/1563 [00:48<00:00, 32.21it/s, loss=0.59]\n",
            "Epoch 14: 100%|██████████| 1563/1563 [00:47<00:00, 32.57it/s, loss=0.265]\n",
            "Epoch 15: 100%|██████████| 1563/1563 [00:48<00:00, 32.42it/s, loss=0.0631]\n",
            "Epoch 16: 100%|██████████| 1563/1563 [00:47<00:00, 32.59it/s, loss=0.379]\n",
            "Epoch 17: 100%|██████████| 1563/1563 [00:47<00:00, 32.63it/s, loss=0.0566]\n",
            "Epoch 18: 100%|██████████| 1563/1563 [00:47<00:00, 32.68it/s, loss=0.149]\n",
            "Epoch 19: 100%|██████████| 1563/1563 [00:47<00:00, 32.82it/s, loss=0.045]\n",
            "Epoch 20: 100%|██████████| 1563/1563 [00:48<00:00, 32.42it/s, loss=0.223]\n",
            "Epoch 21: 100%|██████████| 1563/1563 [00:47<00:00, 32.74it/s, loss=0.253]\n",
            "Epoch 22: 100%|██████████| 1563/1563 [00:47<00:00, 32.76it/s, loss=0.0491]\n",
            "Epoch 23: 100%|██████████| 1563/1563 [00:47<00:00, 32.92it/s, loss=0.191]\n",
            "Epoch 24: 100%|██████████| 1563/1563 [00:47<00:00, 32.59it/s, loss=0.046]\n",
            "Epoch 25: 100%|██████████| 1563/1563 [00:47<00:00, 32.73it/s, loss=0.222]\n",
            "Epoch 26: 100%|██████████| 1563/1563 [00:48<00:00, 32.42it/s, loss=0.0963]\n",
            "Epoch 27: 100%|██████████| 1563/1563 [00:47<00:00, 32.89it/s, loss=0.17]\n",
            "Epoch 28: 100%|██████████| 1563/1563 [00:46<00:00, 33.37it/s, loss=0.0573]\n",
            "Epoch 29: 100%|██████████| 1563/1563 [00:47<00:00, 33.17it/s, loss=0.119]\n",
            "Epoch 30: 100%|██████████| 1563/1563 [00:47<00:00, 33.19it/s, loss=0.158]\n"
          ]
        }
      ]
    },
    {
      "cell_type": "code",
      "source": [
        "model.load_state_dict(torch.load('./Resnet_CIFAR10.pth',map_location=device))\n",
        "\n",
        "num_corr=0\n",
        "\n",
        "with torch.no_grad():\n",
        "  for data, label in iter:\n",
        "    output=model(data.to(device))\n",
        "    preds=output.data.max(1)[1]\n",
        "    corr=preds.eq(label.to(device).data).sum().item()\n",
        "    num_corr+=corr\n",
        "\n",
        "print(f'Accuracy:{num_corr/len(test_data)}')"
      ],
      "metadata": {
        "colab": {
          "base_uri": "https://localhost:8080/"
        },
        "id": "NOflX6YxyhMJ",
        "outputId": "e3f39541-2641-4201-f111-5d67a4a85d73"
      },
      "execution_count": 8,
      "outputs": [
        {
          "output_type": "stream",
          "name": "stderr",
          "text": [
            "<ipython-input-8-acdfdfa4a400>:1: FutureWarning: You are using `torch.load` with `weights_only=False` (the current default value), which uses the default pickle module implicitly. It is possible to construct malicious pickle data which will execute arbitrary code during unpickling (See https://github.com/pytorch/pytorch/blob/main/SECURITY.md#untrusted-models for more details). In a future release, the default value for `weights_only` will be flipped to `True`. This limits the functions that could be executed during unpickling. Arbitrary objects will no longer be allowed to be loaded via this mode unless they are explicitly allowlisted by the user via `torch.serialization.add_safe_globals`. We recommend you start setting `weights_only=True` for any use case where you don't have full control of the loaded file. Please open an issue on GitHub for any issues related to this experimental feature.\n",
            "  model.load_state_dict(torch.load('./Resnet_CIFAR10.pth',map_location=device))\n"
          ]
        },
        {
          "output_type": "stream",
          "name": "stdout",
          "text": [
            "Accuracy:0.885\n"
          ]
        }
      ]
    },
    {
      "cell_type": "code",
      "source": [],
      "metadata": {
        "id": "jQl8z_dv0CbN"
      },
      "execution_count": null,
      "outputs": []
    }
  ]
}