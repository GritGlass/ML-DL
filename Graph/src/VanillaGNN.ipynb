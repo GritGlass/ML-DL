{
 "cells": [
  {
   "cell_type": "code",
   "execution_count": 31,
   "id": "a27e7bbe",
   "metadata": {},
   "outputs": [],
   "source": [
    "from torch_geometric.datasets import Planetoid\n",
    "import pandas as pd\n",
    "from torchmetrics.classification import Accuracy\n",
    "import torch\n",
    "import torch.nn as nn\n",
    "import torch.nn.functional as F\n",
    "from torch_geometric.utils import to_dense_adj"
   ]
  },
  {
   "cell_type": "code",
   "execution_count": null,
   "id": "c8fec5eb",
   "metadata": {},
   "outputs": [
    {
     "data": {
      "text/plain": [
       "Data(x=[2708, 1433], edge_index=[2, 10556], y=[2708], train_mask=[2708], val_mask=[2708], test_mask=[2708])"
      ]
     },
     "execution_count": 4,
     "metadata": {},
     "output_type": "execute_result"
    }
   ],
   "source": [
    "dataset= Planetoid(root='E:/glass_git/ML-DL/Graph/data', name='Cora')\n",
    "data=dataset[0]\n",
    "data"
   ]
  },
  {
   "cell_type": "code",
   "execution_count": null,
   "id": "0e44827a",
   "metadata": {},
   "outputs": [
    {
     "data": {
      "text/plain": [
       "tensor([[0., 0., 0.,  ..., 0., 0., 0.],\n",
       "        [0., 0., 0.,  ..., 0., 0., 0.],\n",
       "        [0., 0., 0.,  ..., 0., 0., 0.],\n",
       "        ...,\n",
       "        [0., 0., 0.,  ..., 0., 0., 0.],\n",
       "        [0., 0., 0.,  ..., 0., 0., 0.],\n",
       "        [0., 0., 0.,  ..., 0., 0., 0.]])"
      ]
     },
     "metadata": {},
     "output_type": "display_data"
    },
    {
     "data": {
      "text/plain": [
       "tensor([3, 4, 4,  ..., 3, 3, 3])"
      ]
     },
     "metadata": {},
     "output_type": "display_data"
    }
   ],
   "source": [
    "''' \n",
    "    [x]    \n",
    "    가로(행)=features, 세로(열)=노드\n",
    "    노드는 총 2708개, 각 노드별로 feature는 1433개\n",
    "    \n",
    "    [y]\n",
    "    노드의 class label, 총 7개의 class가 존재\n",
    "'''\n",
    "display(data.x)\n",
    "display(data.y)\n"
   ]
  },
  {
   "cell_type": "code",
   "execution_count": 27,
   "id": "9a245331",
   "metadata": {},
   "outputs": [],
   "source": [
    "class MLP(nn.Module):\n",
    "    def __init__(self, in_channels, hidden_channels, out_channels):\n",
    "        super(MLP, self).__init__()\n",
    "        self.fc1 = nn.Linear(in_channels, hidden_channels)\n",
    "        self.fc2 = nn.Linear(hidden_channels, out_channels)\n",
    "        self.acc = Accuracy(task=\"multiclass\", num_classes=7) \n",
    "\n",
    "    def forward(self, x):\n",
    "        x = F.relu(self.fc1(x))\n",
    "        x = self.fc2(x)\n",
    "        return F.log_softmax(x,dim=1)\n",
    "    \n",
    "    def fit(self, data, epochs):\n",
    "        criterion=nn.CrossEntropyLoss()\n",
    "        optimizer=torch.optim.Adam(self.parameters(), lr=0.01, weight_decay=5e-4)\n",
    "\n",
    "        self.train()\n",
    "        for epoch in range(epochs):\n",
    "            optimizer.zero_grad()\n",
    "            out = self(data.x) #self(...)는 항상 forward()만 호출한다.\n",
    "            loss = criterion(out[data.train_mask], data.y[data.train_mask])\n",
    "            acc_score = self.acc(out[data.train_mask].argmax(dim=1), data.y[data.train_mask])\n",
    "            loss.backward()\n",
    "            optimizer.step()\n",
    "            if epoch % 10 == 0:\n",
    "                val_loss = criterion(out[data.val_mask], data.y[data.val_mask])\n",
    "                val_acc_score = self.acc(out[data.val_mask].argmax(dim=1), data.y[data.val_mask])\n",
    "                print(f'Epoch {epoch},Train Loss: {loss.item():.3f}, Test Loss: {val_loss.item():.3f}, Train Acc: {acc_score:.3f}, Val Acc: {val_acc_score:.3f}')\n",
    "\n",
    "    def test(self,data):\n",
    "        self.eval()\n",
    "        out=self(data.x)\n",
    "        acc_score = self.acc(out[data.test_mask].argmax(dim=1), data.y[data.test_mask])\n",
    "        return acc_score"
   ]
  },
  {
   "cell_type": "code",
   "execution_count": null,
   "id": "2bfea1c2",
   "metadata": {},
   "outputs": [
    {
     "name": "stdout",
     "output_type": "stream",
     "text": [
      "Epoch 0,Train Loss: 1.960, Test Loss: 2.006, Train Acc: 0.143, Val Acc: 0.060\n",
      "Epoch 10,Train Loss: 0.601, Test Loss: 1.566, Train Acc: 1.000, Val Acc: 0.540\n",
      "Epoch 20,Train Loss: 0.091, Test Loss: 1.377, Train Acc: 1.000, Val Acc: 0.548\n",
      "Epoch 30,Train Loss: 0.026, Test Loss: 1.391, Train Acc: 1.000, Val Acc: 0.544\n",
      "Epoch 40,Train Loss: 0.011, Test Loss: 1.414, Train Acc: 1.000, Val Acc: 0.532\n",
      "Epoch 50,Train Loss: 0.007, Test Loss: 1.409, Train Acc: 1.000, Val Acc: 0.536\n",
      "Epoch 60,Train Loss: 0.006, Test Loss: 1.384, Train Acc: 1.000, Val Acc: 0.540\n",
      "Epoch 70,Train Loss: 0.007, Test Loss: 1.355, Train Acc: 1.000, Val Acc: 0.544\n",
      "Epoch 80,Train Loss: 0.007, Test Loss: 1.333, Train Acc: 1.000, Val Acc: 0.558\n",
      "Epoch 90,Train Loss: 0.008, Test Loss: 1.324, Train Acc: 1.000, Val Acc: 0.564\n"
     ]
    }
   ],
   "source": [
    "mlp=MLP(dataset.num_features, 16, dataset.num_classes)\n",
    "mlp.fit(data,epochs=100)\n",
    "acc_score=mlp.test(data)\n",
    "print(f'MLP test accuracy: {acc_score*100:.2f}%')"
   ]
  },
  {
   "cell_type": "code",
   "execution_count": 38,
   "id": "33454b22",
   "metadata": {},
   "outputs": [],
   "source": [
    "class VanillaGNNLayer(nn.Module):\n",
    "    def __init__(self,dim_in,dim_out):\n",
    "        super(VanillaGNNLayer,self).__init__()\n",
    "        self.linear=nn.Linear(dim_in,dim_out,bias=False)\n",
    "        \n",
    "    def forward(self, x, adj):\n",
    "        x=self.linear(x)\n",
    "        x=torch.sparse.mm(adj,x)\n",
    "        return x\n",
    "    \n",
    "class VanillaGNN(nn.Module):\n",
    "    def __init__(self,dim_in,dim_h,dim_out):\n",
    "        super(VanillaGNN,self).__init__()\n",
    "        self.gnn1=VanillaGNNLayer(dim_in,dim_h)\n",
    "        self.gnn2=VanillaGNNLayer(dim_h,dim_out)\n",
    "        self.acc=Accuracy(task=\"multiclass\", num_classes=7) \n",
    "    def forward(self,x,adj):\n",
    "        h=self.gnn1(x, adj)\n",
    "        h=torch.relu(h)\n",
    "        h=self.gnn2(h,adj)\n",
    "        return F.log_softmax(h,dim=1)\n",
    "    \n",
    "    def fit(self,data,adj,epochs):\n",
    "        criterion=nn.CrossEntropyLoss()\n",
    "        optim=torch.optim.Adam(self.parameters(),lr=0.01, weight_decay=5e-4)\n",
    "        self.train()\n",
    "        for epoch in range(epochs+1):\n",
    "            optim.zero_grad()\n",
    "            out=self(data.x,adj)\n",
    "            loss=criterion(out[data.train_mask],data.y[data.train_mask])\n",
    "            train_acc=self.acc(out[data.train_mask].argmax(dim=1),data.y[data.train_mask])\n",
    "            loss.backward()\n",
    "            optim.step()\n",
    "            if epoch % 20 ==0:\n",
    "                val_loss=criterion(out[data.val_mask],data.y[data.val_mask])\n",
    "                val_acc=self.acc(out[data.val_mask].argmax(dim=1),data.y[data.val_mask])\n",
    "                print(f'epoch: {epoch}, train loss: {loss.item():.3f}, test loss: {val_loss.item():.3f}, train acc: {train_acc*100:.3f}, test acc: {val_acc*100:.3f}')\n",
    "        \n",
    "    def test(self,data,adj):\n",
    "        self.eval()\n",
    "        out=self(data.x,adj)\n",
    "        total_acc=self.acc(out.argmax(dim=1)[data.test_mask],data.y[data.test_mask])\n",
    "        return total_acc\n"
   ]
  },
  {
   "cell_type": "code",
   "execution_count": 39,
   "id": "9c6d16eb",
   "metadata": {},
   "outputs": [
    {
     "name": "stdout",
     "output_type": "stream",
     "text": [
      "epoch: 0, train loss: 2.147, test loss: 2.174, train acc: 11.429, test acc: 5.200\n",
      "epoch: 20, train loss: 0.020, test loss: 1.987, train acc: 100.000, test acc: 72.800\n",
      "epoch: 40, train loss: 0.002, test loss: 2.372, train acc: 100.000, test acc: 74.600\n",
      "epoch: 60, train loss: 0.001, test loss: 2.464, train acc: 100.000, test acc: 74.000\n",
      "epoch: 80, train loss: 0.001, test loss: 2.419, train acc: 100.000, test acc: 75.200\n",
      "epoch: 100, train loss: 0.001, test loss: 2.344, train acc: 100.000, test acc: 75.600\n",
      "GNN test accuracy: 77.000\n"
     ]
    }
   ],
   "source": [
    "adj=to_dense_adj(data.edge_index)[0]\n",
    "adj+=torch.eye(len(adj))\n",
    "\n",
    "gnn=VanillaGNN(dataset.num_features, 16, dataset.num_classes)\n",
    "gnn.fit(data,adj,epochs=100)\n",
    "acc=gnn.test(data,adj)\n",
    "print(f'GNN test accuracy: {acc*100:.3f}')"
   ]
  }
 ],
 "metadata": {
  "kernelspec": {
   "display_name": ".conda",
   "language": "python",
   "name": "python3"
  },
  "language_info": {
   "codemirror_mode": {
    "name": "ipython",
    "version": 3
   },
   "file_extension": ".py",
   "mimetype": "text/x-python",
   "name": "python",
   "nbconvert_exporter": "python",
   "pygments_lexer": "ipython3",
   "version": "3.12.7"
  }
 },
 "nbformat": 4,
 "nbformat_minor": 5
}
