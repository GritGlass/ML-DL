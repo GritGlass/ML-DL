{
 "cells": [
  {
   "cell_type": "code",
   "execution_count": 6,
   "id": "dfec8131",
   "metadata": {},
   "outputs": [],
   "source": [
    "from torch_geometric.datasets import Planetoid\n",
    "from torch_geometric.utils import to_dense_adj, degree\n",
    "from torch_geometric.nn import GCNConv\n",
    "import pandas as pd\n",
    "from torchmetrics.regression import R2Score\n",
    "import torch\n",
    "import torch.nn as nn\n",
    "import torch.nn.functional as F\n",
    "from collections import Counter\n",
    "import matplotlib.pyplot as plt"
   ]
  },
  {
   "cell_type": "code",
   "execution_count": null,
   "id": "aee57c69",
   "metadata": {},
   "outputs": [
    {
     "data": {
      "text/plain": [
       "<BarContainer object of 37 artists>"
      ]
     },
     "execution_count": 2,
     "metadata": {},
     "output_type": "execute_result"
    },
    {
     "data": {
      "image/png": "[encoded data removed]",
      "text/plain": [
       "<Figure size 640x480 with 1 Axes>"
      ]
     },
     "metadata": {},
     "output_type": "display_data"
    }
   ],
   "source": [
    "dataset=Planetoid(root='E:/glass_git/ML-DL/Graph/data',name='Cora')\n",
    "data=dataset[0]\n",
    "degrees=degree(data.edge_index[0]).numpy()\n",
    "numbers=Counter(degrees)\n",
    "\n",
    "fix,ax=plt.subplots()\n",
    "ax.set_xlabel('node degree')\n",
    "ax.set_ylabel('number of nodes')\n",
    "plt.bar(numbers.keys(), numbers.values())\n",
    "\n",
    "''' 오른쪽 긴꼬리 분포인 경우 log10으로 정규화를 수행하여 정규분포로 근사화 한 후 학습시키면 성능이 더 좋아짐'''"
   ]
  },
  {
   "cell_type": "code",
   "execution_count": null,
   "id": "557f97c0",
   "metadata": {},
   "outputs": [
    {
     "data": {
      "text/plain": [
       "tensor([[ 633, 1862, 2582,  ...,  598, 1473, 2706],\n",
       "        [   0,    0,    0,  ..., 2707, 2707, 2707]])"
      ]
     },
     "execution_count": 14,
     "metadata": {},
     "output_type": "execute_result"
    }
   ],
   "source": [
    "data.edge_index # 특정 노드의 이웃 수 "
   ]
  },
  {
   "cell_type": "code",
   "execution_count": 11,
   "id": "ded61e4e",
   "metadata": {},
   "outputs": [],
   "source": [
    "class GCN(nn.Module):\n",
    "    def __init__(self,dim_in,dim_h,dim_out):\n",
    "        super(GCN,self).__init__()\n",
    "        self.gcn1=GCNConv(dim_in,dim_h)\n",
    "        self.gcn2=GCNConv(dim_h,dim_out)\n",
    "        self.acc = R2Score() \n",
    "        \n",
    "    def forward(self, x, edge_index):\n",
    "        h=self.gcn1(x,edge_index)\n",
    "        h=torch.relu(h)\n",
    "        h=self.gcn2(h,edge_index)\n",
    "        return F.log_softmax(h,dim=1)\n",
    "    \n",
    "    def fit(self,data,epochs):\n",
    "        criterion=nn.CrossEntropyLoss()\n",
    "        optim=torch.optim.Adam(self.parameters(),lr=0.01, weight_decay=5e-4)\n",
    "        self.train()\n",
    "        for epoch in range(epochs+1):\n",
    "            optim.zero_grad()\n",
    "            out=self(data.x,data.edge_index)\n",
    "            loss=criterion(out[data.train_mask],data.y[data.train_mask])\n",
    "            acc=self.acc(out[data.train_mask].argmax(dim=1),data.y[data.train_mask])\n",
    "            loss.backward()\n",
    "            optim.step()\n",
    "\n",
    "            if epoch%20==0:\n",
    "                val_loss=criterion(out[data.val_mask],data.y[data.val_mask])\n",
    "                val_acc=self.acc(out[data.val_mask].argmax(dim=1),data.y[data.val_mask])\n",
    "                print(f'epoch: {epoch}, train loss: {loss:.3f}, test loss: {val_loss:.3f}, train acc: {acc*100:.2f}, test acc: {val_acc*100:.2f}')\n",
    "\n",
    "    @torch.no_grad()\n",
    "    def test(self,data):\n",
    "        self.eval()\n",
    "        out=self(data.x,data.edge_index)        \n",
    "        acc=self.acc(out.argmax(dim=1)[data.test_mask], data.y[data.test_mask])\n",
    "        return acc"
   ]
  },
  {
   "cell_type": "code",
   "execution_count": 12,
   "id": "ec0f9167",
   "metadata": {},
   "outputs": [
    {
     "name": "stdout",
     "output_type": "stream",
     "text": [
      "epoch: 0, train loss: 1.941, test loss: 1.930, train acc: -70.00, test acc: -103.17\n",
      "epoch: 20, train loss: 0.146, test loss: 0.798, train acc: 100.00, test acc: 19.60\n",
      "epoch: 40, train loss: 0.019, test loss: 0.744, train acc: 100.00, test acc: 16.83\n",
      "epoch: 60, train loss: 0.017, test loss: 0.717, train acc: 100.00, test acc: 16.45\n",
      "epoch: 80, train loss: 0.019, test loss: 0.710, train acc: 100.00, test acc: 16.01\n",
      "epoch: 100, train loss: 0.017, test loss: 0.712, train acc: 100.00, test acc: 12.19\n",
      " GCN Test accuracy: 38.95\n"
     ]
    }
   ],
   "source": [
    "gcn=GCN(dataset.num_features, 16, dataset.num_classes)\n",
    "gcn.fit(data,epochs=100)\n",
    "acc=gcn.test(data)\n",
    "print(f' GCN Test accuracy: {acc*100:.2f}')"
   ]
  },
  {
   "cell_type": "code",
   "execution_count": null,
   "id": "2883d210",
   "metadata": {},
   "outputs": [],
   "source": []
  }
 ],
 "metadata": {
  "kernelspec": {
   "display_name": ".conda",
   "language": "python",
   "name": "python3"
  },
  "language_info": {
   "codemirror_mode": {
    "name": "ipython",
    "version": 3
   },
   "file_extension": ".py",
   "mimetype": "text/x-python",
   "name": "python",
   "nbconvert_exporter": "python",
   "pygments_lexer": "ipython3",
   "version": "3.12.7"
  }
 },
 "nbformat": 4,
 "nbformat_minor": 5
}
