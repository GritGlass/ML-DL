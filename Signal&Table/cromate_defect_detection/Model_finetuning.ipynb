{
 "cells": [
  {
   "cell_type": "markdown",
   "id": "536c3380",
   "metadata": {},
   "source": [
    "### Best Model\n",
    "- Autoencoder "
   ]
  },
  {
   "cell_type": "code",
   "execution_count": null,
   "id": "01e5dd31",
   "metadata": {},
   "outputs": [],
   "source": [
    "!pip install nbformat nbclient"
   ]
  },
  {
   "cell_type": "code",
   "execution_count": 1,
   "id": "4a81dd8c",
   "metadata": {},
   "outputs": [],
   "source": [
    "import pandas as pd\n",
    "import numpy as np\n",
    "import os\n",
    "import glob\n",
    "from sklearn.ensemble import IsolationForest\n",
    "from sklearn.svm import OneClassSVM\n",
    "from model.AE_anbormaly_detection import Autoencoder\n",
    "from model.Deep_SVDD import DeepSVDD\n",
    "import torch.nn as nn\n",
    "import torch.optim as optim\n",
    "import torch\n",
    "from torch.utils.data import DataLoader, TensorDataset\n",
    "from sklearn.metrics import accuracy_score\n",
    "from sklearn.preprocessing import StandardScaler\n",
    "import matplotlib.pyplot as plt\n",
    "import seaborn as sns\n",
    "import random\n",
    "import wandb as wb\n",
    "from sklearn.preprocessing import PolynomialFeatures\n",
    "from sklearn.decomposition import PCA\n",
    "from sklearn.manifold import TSNE\n",
    "from sklearn.feature_selection import SelectFromModel\n",
    "from sklearn.ensemble import ExtraTreesClassifier"
   ]
  },
  {
   "cell_type": "code",
   "execution_count": 2,
   "id": "730ddaf0",
   "metadata": {},
   "outputs": [
    {
     "name": "stderr",
     "output_type": "stream",
     "text": [
      "\u001b[34m\u001b[1mwandb\u001b[0m: \u001b[33mWARNING\u001b[0m If you're specifying your api key in code, ensure this code is not shared publicly.\n",
      "\u001b[34m\u001b[1mwandb\u001b[0m: \u001b[33mWARNING\u001b[0m Consider setting the WANDB_API_KEY environment variable, or running `wandb login` from the command line.\n",
      "\u001b[34m\u001b[1mwandb\u001b[0m: Appending key for api.wandb.ai to your netrc file: C:\\Users\\hyr69\\_netrc\n",
      "\u001b[34m\u001b[1mwandb\u001b[0m: Currently logged in as: \u001b[33mglasshan914\u001b[0m (\u001b[33mglasshan9140\u001b[0m) to \u001b[32mhttps://api.wandb.ai\u001b[0m. Use \u001b[1m`wandb login --relogin`\u001b[0m to force relogin\n"
     ]
    },
    {
     "data": {
      "text/plain": [
       "True"
      ]
     },
     "execution_count": 2,
     "metadata": {},
     "output_type": "execute_result"
    }
   ],
   "source": [
    "wb.login(key='df322611202ac3afbc7fa10af4de4f06ebc84103') "
   ]
  },
  {
   "cell_type": "code",
   "execution_count": 3,
   "id": "53c6816c",
   "metadata": {},
   "outputs": [],
   "source": [
    "random.seed(42)  # For reproducibility\n",
    "def sampling(df,normal_df,abnormal_df,features):\n",
    "    #test에 사용할 normal data sampling\n",
    "    test_lot_index=random.sample(normal_df.Lot.unique().tolist(),9)\n",
    "    test_lot_index+=abnormal_df.Lot.unique().tolist()\n",
    "\n",
    "    #train test split, test set에 normal Lot 9개, abnormal Lot 9개(전체)\n",
    "    train_df=normal_df[~normal_df['Lot'].isin(test_lot_index)]\n",
    "    test_df=df[df['Lot'].isin(test_lot_index)]\n",
    "\n",
    "    try:\n",
    "        features.remove('Lot')  \n",
    "        features.remove('class')\n",
    "    except:\n",
    "        pass\n",
    "\n",
    "    #scaled data\n",
    "    scaler=StandardScaler()\n",
    "    scaled_x_train=scaler.fit_transform(train_df[features])\n",
    "    scaled_x_test=scaler.transform(test_df[features])\n",
    "    return scaled_x_train,scaled_x_test,test_df,test_lot_index,features"
   ]
  },
  {
   "cell_type": "code",
   "execution_count": 4,
   "id": "c33b84e9",
   "metadata": {},
   "outputs": [],
   "source": [
    "df=pd.read_csv('E:/glass_git/ML-DL/Signal&Table/data/cromate/preped/df_merged.csv')\n",
    "poly_features=['pH','Temp','Voltage','run_time']\n",
    "features=['pH','Temp','Voltage','run_time','month','day','hour','minutes','seconds']\n",
    "target=['class']\n",
    "\n",
    "#polynominal feature 생성\n",
    "poly=PolynomialFeatures(degree=(2,3),interaction_only=True,include_bias=True)\n",
    "new_feature=poly.fit_transform(df[poly_features])\n",
    "\n",
    "#TSNE로 차원 축소 변수 2개 생성\n",
    "X_embedded = TSNE(n_components=2, learning_rate='auto',\n",
    "                  init='random', perplexity=3).fit_transform(df[poly_features])\n",
    "\n",
    "# 데이터프레임에 새로운 feature와 TSNE 변수 추가\n",
    "ddf=pd.concat([df[features+target], pd.DataFrame(new_feature, columns=poly.get_feature_names_out(poly_features))], axis=1)\n",
    "ddf=pd.concat([ddf, pd.DataFrame(X_embedded, columns=['tnse1','tsne2'])], axis=1)\n",
    "ddf.drop(columns=['1'],inplace=True)\n",
    "\n",
    "ddf['class']=df['class']\n",
    "ddf['Lot']=df['Lot']\n",
    "normal_df=ddf[ddf['class']==0]\n",
    "abnormal_df=ddf[ddf['class']==1]\n",
    "\n",
    "train_features=ddf.columns.tolist()\n"
   ]
  },
  {
   "cell_type": "code",
   "execution_count": null,
   "id": "c83dbcda",
   "metadata": {},
   "outputs": [
    {
     "name": "stdout",
     "output_type": "stream",
     "text": [
      "Create sweep with ID: 3hyg1h1d\n",
      "Sweep URL: https://wandb.ai/glasshan9140/Signal_abnormal_detection/sweeps/3hyg1h1d\n"
     ]
    },
    {
     "name": "stderr",
     "output_type": "stream",
     "text": [
      "\u001b[34m\u001b[1mwandb\u001b[0m: Agent Starting Run: kfl6ka0c with config:\n",
      "\u001b[34m\u001b[1mwandb\u001b[0m: \tepochs: 50\n",
      "\u001b[34m\u001b[1mwandb\u001b[0m: \tlearning_rate: 0.016289809875122623\n",
      "\u001b[34m\u001b[1mwandb\u001b[0m: \toptimizer: adamw\n",
      "\u001b[34m\u001b[1mwandb\u001b[0m: \tthreshold: 95\n"
     ]
    },
    {
     "data": {
      "text/html": [
       "Ignoring project 'Signal_abnormal_detection' when running a sweep."
      ],
      "text/plain": [
       "<IPython.core.display.HTML object>"
      ]
     },
     "metadata": {},
     "output_type": "display_data"
    },
    {
     "data": {
      "text/html": [
       "Tracking run with wandb version 0.21.1"
      ],
      "text/plain": [
       "<IPython.core.display.HTML object>"
      ]
     },
     "metadata": {},
     "output_type": "display_data"
    },
    {
     "data": {
      "text/html": [
       "Run data is saved locally in <code>e:\\glass_git\\ML-DL\\Signal&Table\\cromate_defect_detection\\wandb\\run-20250812_234007-kfl6ka0c</code>"
      ],
      "text/plain": [
       "<IPython.core.display.HTML object>"
      ]
     },
     "metadata": {},
     "output_type": "display_data"
    },
    {
     "data": {
      "text/html": [
       "Syncing run <strong><a href='https://wandb.ai/glasshan9140/Signal_abnormal_detection/runs/kfl6ka0c' target=\"_blank\">lyric-sweep-1</a></strong> to <a href='https://wandb.ai/glasshan9140/Signal_abnormal_detection' target=\"_blank\">Weights & Biases</a> (<a href='https://wandb.me/developer-guide' target=\"_blank\">docs</a>)<br>Sweep page: <a href='https://wandb.ai/glasshan9140/Signal_abnormal_detection/sweeps/3hyg1h1d' target=\"_blank\">https://wandb.ai/glasshan9140/Signal_abnormal_detection/sweeps/3hyg1h1d</a>"
      ],
      "text/plain": [
       "<IPython.core.display.HTML object>"
      ]
     },
     "metadata": {},
     "output_type": "display_data"
    },
    {
     "data": {
      "text/html": [
       " View project at <a href='https://wandb.ai/glasshan9140/Signal_abnormal_detection' target=\"_blank\">https://wandb.ai/glasshan9140/Signal_abnormal_detection</a>"
      ],
      "text/plain": [
       "<IPython.core.display.HTML object>"
      ]
     },
     "metadata": {},
     "output_type": "display_data"
    },
    {
     "data": {
      "text/html": [
       " View sweep at <a href='https://wandb.ai/glasshan9140/Signal_abnormal_detection/sweeps/3hyg1h1d' target=\"_blank\">https://wandb.ai/glasshan9140/Signal_abnormal_detection/sweeps/3hyg1h1d</a>"
      ],
      "text/plain": [
       "<IPython.core.display.HTML object>"
      ]
     },
     "metadata": {},
     "output_type": "display_data"
    },
    {
     "data": {
      "text/html": [
       " View run at <a href='https://wandb.ai/glasshan9140/Signal_abnormal_detection/runs/kfl6ka0c' target=\"_blank\">https://wandb.ai/glasshan9140/Signal_abnormal_detection/runs/kfl6ka0c</a>"
      ],
      "text/plain": [
       "<IPython.core.display.HTML object>"
      ]
     },
     "metadata": {},
     "output_type": "display_data"
    },
    {
     "name": "stdout",
     "output_type": "stream",
     "text": [
      "lr: 0.016289809875122623 optimizer: adamw epochs: 50\n"
     ]
    },
    {
     "name": "stderr",
     "output_type": "stream",
     "text": [
      "\u001b[34m\u001b[1mwandb\u001b[0m: \u001b[32m\u001b[41mERROR\u001b[0m The nbformat package was not found. It is required to save notebook history.\n"
     ]
    },
    {
     "data": {
      "text/html": [],
      "text/plain": [
       "<IPython.core.display.HTML object>"
      ]
     },
     "metadata": {},
     "output_type": "display_data"
    },
    {
     "data": {
      "text/html": [
       "<br>    <style><br>        .wandb-row {<br>            display: flex;<br>            flex-direction: row;<br>            flex-wrap: wrap;<br>            justify-content: flex-start;<br>            width: 100%;<br>        }<br>        .wandb-col {<br>            display: flex;<br>            flex-direction: column;<br>            flex-basis: 100%;<br>            flex: 1;<br>            padding: 10px;<br>        }<br>    </style><br><div class=\"wandb-row\"><div class=\"wandb-col\"><h3>Run history:</h3><br/><table class=\"wandb\"><tr><td>accuracy</td><td>▁</td></tr><tr><td>training_loss</td><td>█▆▃▂▂▂▂▃▂▂▁▁▂▁▁▁▁▁▁▁▁▁▁▁▁▁▁▁▁▁▁▁▁▁▂▁▁▁▁▁</td></tr></table><br/></div><div class=\"wandb-col\"><h3>Run summary:</h3><br/><table class=\"wandb\"><tr><td>accuracy</td><td>0.5278</td></tr><tr><td>training_loss</td><td>0.75058</td></tr></table><br/></div></div>"
      ],
      "text/plain": [
       "<IPython.core.display.HTML object>"
      ]
     },
     "metadata": {},
     "output_type": "display_data"
    },
    {
     "data": {
      "text/html": [
       " View run <strong style=\"color:#cdcd00\">lyric-sweep-1</strong> at: <a href='https://wandb.ai/glasshan9140/Signal_abnormal_detection/runs/kfl6ka0c' target=\"_blank\">https://wandb.ai/glasshan9140/Signal_abnormal_detection/runs/kfl6ka0c</a><br> View project at: <a href='https://wandb.ai/glasshan9140/Signal_abnormal_detection' target=\"_blank\">https://wandb.ai/glasshan9140/Signal_abnormal_detection</a><br>Synced 5 W&B file(s), 0 media file(s), 0 artifact file(s) and 0 other file(s)"
      ],
      "text/plain": [
       "<IPython.core.display.HTML object>"
      ]
     },
     "metadata": {},
     "output_type": "display_data"
    },
    {
     "data": {
      "text/html": [
       "Find logs at: <code>.\\wandb\\run-20250812_234007-kfl6ka0c\\logs</code>"
      ],
      "text/plain": [
       "<IPython.core.display.HTML object>"
      ]
     },
     "metadata": {},
     "output_type": "display_data"
    },
    {
     "name": "stderr",
     "output_type": "stream",
     "text": [
      "\u001b[34m\u001b[1mwandb\u001b[0m: Agent Starting Run: 2v8udwid with config:\n",
      "\u001b[34m\u001b[1mwandb\u001b[0m: \tepochs: 50\n",
      "\u001b[34m\u001b[1mwandb\u001b[0m: \tlearning_rate: 0.016017748606744257\n",
      "\u001b[34m\u001b[1mwandb\u001b[0m: \toptimizer: sgd\n",
      "\u001b[34m\u001b[1mwandb\u001b[0m: \tthreshold: 95\n"
     ]
    },
    {
     "data": {
      "text/html": [
       "Ignoring project 'Signal_abnormal_detection' when running a sweep."
      ],
      "text/plain": [
       "<IPython.core.display.HTML object>"
      ]
     },
     "metadata": {},
     "output_type": "display_data"
    },
    {
     "data": {
      "text/html": [
       "Tracking run with wandb version 0.21.1"
      ],
      "text/plain": [
       "<IPython.core.display.HTML object>"
      ]
     },
     "metadata": {},
     "output_type": "display_data"
    },
    {
     "data": {
      "text/html": [
       "Run data is saved locally in <code>e:\\glass_git\\ML-DL\\Signal&Table\\cromate_defect_detection\\wandb\\run-20250812_234033-2v8udwid</code>"
      ],
      "text/plain": [
       "<IPython.core.display.HTML object>"
      ]
     },
     "metadata": {},
     "output_type": "display_data"
    },
    {
     "data": {
      "text/html": [
       "Syncing run <strong><a href='https://wandb.ai/glasshan9140/Signal_abnormal_detection/runs/2v8udwid' target=\"_blank\">graceful-sweep-2</a></strong> to <a href='https://wandb.ai/glasshan9140/Signal_abnormal_detection' target=\"_blank\">Weights & Biases</a> (<a href='https://wandb.me/developer-guide' target=\"_blank\">docs</a>)<br>Sweep page: <a href='https://wandb.ai/glasshan9140/Signal_abnormal_detection/sweeps/3hyg1h1d' target=\"_blank\">https://wandb.ai/glasshan9140/Signal_abnormal_detection/sweeps/3hyg1h1d</a>"
      ],
      "text/plain": [
       "<IPython.core.display.HTML object>"
      ]
     },
     "metadata": {},
     "output_type": "display_data"
    },
    {
     "data": {
      "text/html": [
       " View project at <a href='https://wandb.ai/glasshan9140/Signal_abnormal_detection' target=\"_blank\">https://wandb.ai/glasshan9140/Signal_abnormal_detection</a>"
      ],
      "text/plain": [
       "<IPython.core.display.HTML object>"
      ]
     },
     "metadata": {},
     "output_type": "display_data"
    },
    {
     "data": {
      "text/html": [
       " View sweep at <a href='https://wandb.ai/glasshan9140/Signal_abnormal_detection/sweeps/3hyg1h1d' target=\"_blank\">https://wandb.ai/glasshan9140/Signal_abnormal_detection/sweeps/3hyg1h1d</a>"
      ],
      "text/plain": [
       "<IPython.core.display.HTML object>"
      ]
     },
     "metadata": {},
     "output_type": "display_data"
    },
    {
     "data": {
      "text/html": [
       " View run at <a href='https://wandb.ai/glasshan9140/Signal_abnormal_detection/runs/2v8udwid' target=\"_blank\">https://wandb.ai/glasshan9140/Signal_abnormal_detection/runs/2v8udwid</a>"
      ],
      "text/plain": [
       "<IPython.core.display.HTML object>"
      ]
     },
     "metadata": {},
     "output_type": "display_data"
    },
    {
     "name": "stdout",
     "output_type": "stream",
     "text": [
      "lr: 0.016017748606744257 optimizer: sgd epochs: 50\n"
     ]
    },
    {
     "name": "stderr",
     "output_type": "stream",
     "text": [
      "\u001b[34m\u001b[1mwandb\u001b[0m: \u001b[32m\u001b[41mERROR\u001b[0m The nbformat package was not found. It is required to save notebook history.\n"
     ]
    },
    {
     "data": {
      "text/html": [],
      "text/plain": [
       "<IPython.core.display.HTML object>"
      ]
     },
     "metadata": {},
     "output_type": "display_data"
    },
    {
     "data": {
      "text/html": [
       "<br>    <style><br>        .wandb-row {<br>            display: flex;<br>            flex-direction: row;<br>            flex-wrap: wrap;<br>            justify-content: flex-start;<br>            width: 100%;<br>        }<br>        .wandb-col {<br>            display: flex;<br>            flex-direction: column;<br>            flex-basis: 100%;<br>            flex: 1;<br>            padding: 10px;<br>        }<br>    </style><br><div class=\"wandb-row\"><div class=\"wandb-col\"><h3>Run history:</h3><br/><table class=\"wandb\"><tr><td>accuracy</td><td>▁</td></tr><tr><td>training_loss</td><td>█▇▇▆▅▄▃▃▂▂▁▁▁▁▁▁▁▁▁▁▁▁▁▁▁▁▁▁▁▁▁▁▁▁▁▁▁▁▁▁</td></tr></table><br/></div><div class=\"wandb-col\"><h3>Run summary:</h3><br/><table class=\"wandb\"><tr><td>accuracy</td><td>0.53444</td></tr><tr><td>training_loss</td><td>0.75073</td></tr></table><br/></div></div>"
      ],
      "text/plain": [
       "<IPython.core.display.HTML object>"
      ]
     },
     "metadata": {},
     "output_type": "display_data"
    },
    {
     "data": {
      "text/html": [
       " View run <strong style=\"color:#cdcd00\">graceful-sweep-2</strong> at: <a href='https://wandb.ai/glasshan9140/Signal_abnormal_detection/runs/2v8udwid' target=\"_blank\">https://wandb.ai/glasshan9140/Signal_abnormal_detection/runs/2v8udwid</a><br> View project at: <a href='https://wandb.ai/glasshan9140/Signal_abnormal_detection' target=\"_blank\">https://wandb.ai/glasshan9140/Signal_abnormal_detection</a><br>Synced 5 W&B file(s), 0 media file(s), 0 artifact file(s) and 0 other file(s)"
      ],
      "text/plain": [
       "<IPython.core.display.HTML object>"
      ]
     },
     "metadata": {},
     "output_type": "display_data"
    },
    {
     "data": {
      "text/html": [
       "Find logs at: <code>.\\wandb\\run-20250812_234033-2v8udwid\\logs</code>"
      ],
      "text/plain": [
       "<IPython.core.display.HTML object>"
      ]
     },
     "metadata": {},
     "output_type": "display_data"
    },
    {
     "name": "stderr",
     "output_type": "stream",
     "text": [
      "\u001b[34m\u001b[1mwandb\u001b[0m: Agent Starting Run: fqabpstq with config:\n",
      "\u001b[34m\u001b[1mwandb\u001b[0m: \tepochs: 100\n",
      "\u001b[34m\u001b[1mwandb\u001b[0m: \tlearning_rate: 0.03374522233952644\n",
      "\u001b[34m\u001b[1mwandb\u001b[0m: \toptimizer: adam\n",
      "\u001b[34m\u001b[1mwandb\u001b[0m: \tthreshold: 95\n"
     ]
    },
    {
     "data": {
      "text/html": [
       "Ignoring project 'Signal_abnormal_detection' when running a sweep."
      ],
      "text/plain": [
       "<IPython.core.display.HTML object>"
      ]
     },
     "metadata": {},
     "output_type": "display_data"
    },
    {
     "data": {
      "text/html": [
       "Tracking run with wandb version 0.21.1"
      ],
      "text/plain": [
       "<IPython.core.display.HTML object>"
      ]
     },
     "metadata": {},
     "output_type": "display_data"
    },
    {
     "data": {
      "text/html": [
       "Run data is saved locally in <code>e:\\glass_git\\ML-DL\\Signal&Table\\cromate_defect_detection\\wandb\\run-20250812_234055-fqabpstq</code>"
      ],
      "text/plain": [
       "<IPython.core.display.HTML object>"
      ]
     },
     "metadata": {},
     "output_type": "display_data"
    },
    {
     "data": {
      "text/html": [
       "Syncing run <strong><a href='https://wandb.ai/glasshan9140/Signal_abnormal_detection/runs/fqabpstq' target=\"_blank\">ethereal-sweep-3</a></strong> to <a href='https://wandb.ai/glasshan9140/Signal_abnormal_detection' target=\"_blank\">Weights & Biases</a> (<a href='https://wandb.me/developer-guide' target=\"_blank\">docs</a>)<br>Sweep page: <a href='https://wandb.ai/glasshan9140/Signal_abnormal_detection/sweeps/3hyg1h1d' target=\"_blank\">https://wandb.ai/glasshan9140/Signal_abnormal_detection/sweeps/3hyg1h1d</a>"
      ],
      "text/plain": [
       "<IPython.core.display.HTML object>"
      ]
     },
     "metadata": {},
     "output_type": "display_data"
    },
    {
     "data": {
      "text/html": [
       " View project at <a href='https://wandb.ai/glasshan9140/Signal_abnormal_detection' target=\"_blank\">https://wandb.ai/glasshan9140/Signal_abnormal_detection</a>"
      ],
      "text/plain": [
       "<IPython.core.display.HTML object>"
      ]
     },
     "metadata": {},
     "output_type": "display_data"
    },
    {
     "data": {
      "text/html": [
       " View sweep at <a href='https://wandb.ai/glasshan9140/Signal_abnormal_detection/sweeps/3hyg1h1d' target=\"_blank\">https://wandb.ai/glasshan9140/Signal_abnormal_detection/sweeps/3hyg1h1d</a>"
      ],
      "text/plain": [
       "<IPython.core.display.HTML object>"
      ]
     },
     "metadata": {},
     "output_type": "display_data"
    },
    {
     "data": {
      "text/html": [
       " View run at <a href='https://wandb.ai/glasshan9140/Signal_abnormal_detection/runs/fqabpstq' target=\"_blank\">https://wandb.ai/glasshan9140/Signal_abnormal_detection/runs/fqabpstq</a>"
      ],
      "text/plain": [
       "<IPython.core.display.HTML object>"
      ]
     },
     "metadata": {},
     "output_type": "display_data"
    },
    {
     "name": "stdout",
     "output_type": "stream",
     "text": [
      "lr: 0.03374522233952644 optimizer: adam epochs: 100\n"
     ]
    },
    {
     "name": "stderr",
     "output_type": "stream",
     "text": [
      "\u001b[34m\u001b[1mwandb\u001b[0m: \u001b[32m\u001b[41mERROR\u001b[0m The nbformat package was not found. It is required to save notebook history.\n"
     ]
    },
    {
     "data": {
      "text/html": [],
      "text/plain": [
       "<IPython.core.display.HTML object>"
      ]
     },
     "metadata": {},
     "output_type": "display_data"
    },
    {
     "data": {
      "text/html": [
       "<br>    <style><br>        .wandb-row {<br>            display: flex;<br>            flex-direction: row;<br>            flex-wrap: wrap;<br>            justify-content: flex-start;<br>            width: 100%;<br>        }<br>        .wandb-col {<br>            display: flex;<br>            flex-direction: column;<br>            flex-basis: 100%;<br>            flex: 1;<br>            padding: 10px;<br>        }<br>    </style><br><div class=\"wandb-row\"><div class=\"wandb-col\"><h3>Run history:</h3><br/><table class=\"wandb\"><tr><td>accuracy</td><td>▁</td></tr><tr><td>training_loss</td><td>▃▁▁▃▂▂▂▂▂▂▂▃▃▂▂█▆▅▅▅▅█▅▅▅▆▅▅▅▅▅▆▅▃▂▂▂▃▂▂</td></tr></table><br/></div><div class=\"wandb-col\"><h3>Run summary:</h3><br/><table class=\"wandb\"><tr><td>accuracy</td><td>0.53942</td></tr><tr><td>training_loss</td><td>0.76768</td></tr></table><br/></div></div>"
      ],
      "text/plain": [
       "<IPython.core.display.HTML object>"
      ]
     },
     "metadata": {},
     "output_type": "display_data"
    },
    {
     "data": {
      "text/html": [
       " View run <strong style=\"color:#cdcd00\">ethereal-sweep-3</strong> at: <a href='https://wandb.ai/glasshan9140/Signal_abnormal_detection/runs/fqabpstq' target=\"_blank\">https://wandb.ai/glasshan9140/Signal_abnormal_detection/runs/fqabpstq</a><br> View project at: <a href='https://wandb.ai/glasshan9140/Signal_abnormal_detection' target=\"_blank\">https://wandb.ai/glasshan9140/Signal_abnormal_detection</a><br>Synced 5 W&B file(s), 0 media file(s), 0 artifact file(s) and 0 other file(s)"
      ],
      "text/plain": [
       "<IPython.core.display.HTML object>"
      ]
     },
     "metadata": {},
     "output_type": "display_data"
    },
    {
     "data": {
      "text/html": [
       "Find logs at: <code>.\\wandb\\run-20250812_234055-fqabpstq\\logs</code>"
      ],
      "text/plain": [
       "<IPython.core.display.HTML object>"
      ]
     },
     "metadata": {},
     "output_type": "display_data"
    },
    {
     "name": "stderr",
     "output_type": "stream",
     "text": [
      "\u001b[34m\u001b[1mwandb\u001b[0m: Sweep Agent: Waiting for job.\n",
      "\u001b[34m\u001b[1mwandb\u001b[0m: Job received.\n",
      "\u001b[34m\u001b[1mwandb\u001b[0m: Agent Starting Run: nsv3bdu6 with config:\n",
      "\u001b[34m\u001b[1mwandb\u001b[0m: \tepochs: 100\n",
      "\u001b[34m\u001b[1mwandb\u001b[0m: \tlearning_rate: 0.0913796375035852\n",
      "\u001b[34m\u001b[1mwandb\u001b[0m: \toptimizer: sgd\n",
      "\u001b[34m\u001b[1mwandb\u001b[0m: \tthreshold: 95\n"
     ]
    },
    {
     "data": {
      "text/html": [
       "Ignoring project 'Signal_abnormal_detection' when running a sweep."
      ],
      "text/plain": [
       "<IPython.core.display.HTML object>"
      ]
     },
     "metadata": {},
     "output_type": "display_data"
    },
    {
     "data": {
      "text/html": [
       "Tracking run with wandb version 0.21.1"
      ],
      "text/plain": [
       "<IPython.core.display.HTML object>"
      ]
     },
     "metadata": {},
     "output_type": "display_data"
    },
    {
     "data": {
      "text/html": [
       "Run data is saved locally in <code>e:\\glass_git\\ML-DL\\Signal&Table\\cromate_defect_detection\\wandb\\run-20250812_234157-nsv3bdu6</code>"
      ],
      "text/plain": [
       "<IPython.core.display.HTML object>"
      ]
     },
     "metadata": {},
     "output_type": "display_data"
    },
    {
     "data": {
      "text/html": [
       "Syncing run <strong><a href='https://wandb.ai/glasshan9140/Signal_abnormal_detection/runs/nsv3bdu6' target=\"_blank\">brisk-sweep-4</a></strong> to <a href='https://wandb.ai/glasshan9140/Signal_abnormal_detection' target=\"_blank\">Weights & Biases</a> (<a href='https://wandb.me/developer-guide' target=\"_blank\">docs</a>)<br>Sweep page: <a href='https://wandb.ai/glasshan9140/Signal_abnormal_detection/sweeps/3hyg1h1d' target=\"_blank\">https://wandb.ai/glasshan9140/Signal_abnormal_detection/sweeps/3hyg1h1d</a>"
      ],
      "text/plain": [
       "<IPython.core.display.HTML object>"
      ]
     },
     "metadata": {},
     "output_type": "display_data"
    },
    {
     "data": {
      "text/html": [
       " View project at <a href='https://wandb.ai/glasshan9140/Signal_abnormal_detection' target=\"_blank\">https://wandb.ai/glasshan9140/Signal_abnormal_detection</a>"
      ],
      "text/plain": [
       "<IPython.core.display.HTML object>"
      ]
     },
     "metadata": {},
     "output_type": "display_data"
    },
    {
     "data": {
      "text/html": [
       " View sweep at <a href='https://wandb.ai/glasshan9140/Signal_abnormal_detection/sweeps/3hyg1h1d' target=\"_blank\">https://wandb.ai/glasshan9140/Signal_abnormal_detection/sweeps/3hyg1h1d</a>"
      ],
      "text/plain": [
       "<IPython.core.display.HTML object>"
      ]
     },
     "metadata": {},
     "output_type": "display_data"
    },
    {
     "data": {
      "text/html": [
       " View run at <a href='https://wandb.ai/glasshan9140/Signal_abnormal_detection/runs/nsv3bdu6' target=\"_blank\">https://wandb.ai/glasshan9140/Signal_abnormal_detection/runs/nsv3bdu6</a>"
      ],
      "text/plain": [
       "<IPython.core.display.HTML object>"
      ]
     },
     "metadata": {},
     "output_type": "display_data"
    },
    {
     "name": "stdout",
     "output_type": "stream",
     "text": [
      "lr: 0.0913796375035852 optimizer: sgd epochs: 100\n"
     ]
    },
    {
     "name": "stderr",
     "output_type": "stream",
     "text": [
      "\u001b[34m\u001b[1mwandb\u001b[0m: \u001b[32m\u001b[41mERROR\u001b[0m The nbformat package was not found. It is required to save notebook history.\n"
     ]
    },
    {
     "data": {
      "text/html": [],
      "text/plain": [
       "<IPython.core.display.HTML object>"
      ]
     },
     "metadata": {},
     "output_type": "display_data"
    },
    {
     "data": {
      "text/html": [
       "<br>    <style><br>        .wandb-row {<br>            display: flex;<br>            flex-direction: row;<br>            flex-wrap: wrap;<br>            justify-content: flex-start;<br>            width: 100%;<br>        }<br>        .wandb-col {<br>            display: flex;<br>            flex-direction: column;<br>            flex-basis: 100%;<br>            flex: 1;<br>            padding: 10px;<br>        }<br>    </style><br><div class=\"wandb-row\"><div class=\"wandb-col\"><h3>Run history:</h3><br/><table class=\"wandb\"><tr><td>accuracy</td><td>▁</td></tr><tr><td>training_loss</td><td>█▃▃▂▂▂▂▂▂▂▂▂▂▂▂▂▂▁▁▁▁▁▁▁▁▁▁▂▃▂▂▂▂▂▂▂▂▂▃▃</td></tr></table><br/></div><div class=\"wandb-col\"><h3>Run summary:</h3><br/><table class=\"wandb\"><tr><td>accuracy</td><td>0.54606</td></tr><tr><td>training_loss</td><td>0.69927</td></tr></table><br/></div></div>"
      ],
      "text/plain": [
       "<IPython.core.display.HTML object>"
      ]
     },
     "metadata": {},
     "output_type": "display_data"
    },
    {
     "data": {
      "text/html": [
       " View run <strong style=\"color:#cdcd00\">brisk-sweep-4</strong> at: <a href='https://wandb.ai/glasshan9140/Signal_abnormal_detection/runs/nsv3bdu6' target=\"_blank\">https://wandb.ai/glasshan9140/Signal_abnormal_detection/runs/nsv3bdu6</a><br> View project at: <a href='https://wandb.ai/glasshan9140/Signal_abnormal_detection' target=\"_blank\">https://wandb.ai/glasshan9140/Signal_abnormal_detection</a><br>Synced 5 W&B file(s), 0 media file(s), 0 artifact file(s) and 0 other file(s)"
      ],
      "text/plain": [
       "<IPython.core.display.HTML object>"
      ]
     },
     "metadata": {},
     "output_type": "display_data"
    },
    {
     "data": {
      "text/html": [
       "Find logs at: <code>.\\wandb\\run-20250812_234157-nsv3bdu6\\logs</code>"
      ],
      "text/plain": [
       "<IPython.core.display.HTML object>"
      ]
     },
     "metadata": {},
     "output_type": "display_data"
    },
    {
     "name": "stderr",
     "output_type": "stream",
     "text": [
      "\u001b[34m\u001b[1mwandb\u001b[0m: Agent Starting Run: oe53rj0v with config:\n",
      "\u001b[34m\u001b[1mwandb\u001b[0m: \tepochs: 100\n",
      "\u001b[34m\u001b[1mwandb\u001b[0m: \tlearning_rate: 0.029545404316146145\n",
      "\u001b[34m\u001b[1mwandb\u001b[0m: \toptimizer: sgd\n",
      "\u001b[34m\u001b[1mwandb\u001b[0m: \tthreshold: 95\n"
     ]
    },
    {
     "data": {
      "text/html": [
       "Ignoring project 'Signal_abnormal_detection' when running a sweep."
      ],
      "text/plain": [
       "<IPython.core.display.HTML object>"
      ]
     },
     "metadata": {},
     "output_type": "display_data"
    },
    {
     "data": {
      "text/html": [
       "Tracking run with wandb version 0.21.1"
      ],
      "text/plain": [
       "<IPython.core.display.HTML object>"
      ]
     },
     "metadata": {},
     "output_type": "display_data"
    },
    {
     "data": {
      "text/html": [
       "Run data is saved locally in <code>e:\\glass_git\\ML-DL\\Signal&Table\\cromate_defect_detection\\wandb\\run-20250812_234235-oe53rj0v</code>"
      ],
      "text/plain": [
       "<IPython.core.display.HTML object>"
      ]
     },
     "metadata": {},
     "output_type": "display_data"
    },
    {
     "data": {
      "text/html": [
       "Syncing run <strong><a href='https://wandb.ai/glasshan9140/Signal_abnormal_detection/runs/oe53rj0v' target=\"_blank\">smart-sweep-5</a></strong> to <a href='https://wandb.ai/glasshan9140/Signal_abnormal_detection' target=\"_blank\">Weights & Biases</a> (<a href='https://wandb.me/developer-guide' target=\"_blank\">docs</a>)<br>Sweep page: <a href='https://wandb.ai/glasshan9140/Signal_abnormal_detection/sweeps/3hyg1h1d' target=\"_blank\">https://wandb.ai/glasshan9140/Signal_abnormal_detection/sweeps/3hyg1h1d</a>"
      ],
      "text/plain": [
       "<IPython.core.display.HTML object>"
      ]
     },
     "metadata": {},
     "output_type": "display_data"
    },
    {
     "data": {
      "text/html": [
       " View project at <a href='https://wandb.ai/glasshan9140/Signal_abnormal_detection' target=\"_blank\">https://wandb.ai/glasshan9140/Signal_abnormal_detection</a>"
      ],
      "text/plain": [
       "<IPython.core.display.HTML object>"
      ]
     },
     "metadata": {},
     "output_type": "display_data"
    },
    {
     "data": {
      "text/html": [
       " View sweep at <a href='https://wandb.ai/glasshan9140/Signal_abnormal_detection/sweeps/3hyg1h1d' target=\"_blank\">https://wandb.ai/glasshan9140/Signal_abnormal_detection/sweeps/3hyg1h1d</a>"
      ],
      "text/plain": [
       "<IPython.core.display.HTML object>"
      ]
     },
     "metadata": {},
     "output_type": "display_data"
    },
    {
     "data": {
      "text/html": [
       " View run at <a href='https://wandb.ai/glasshan9140/Signal_abnormal_detection/runs/oe53rj0v' target=\"_blank\">https://wandb.ai/glasshan9140/Signal_abnormal_detection/runs/oe53rj0v</a>"
      ],
      "text/plain": [
       "<IPython.core.display.HTML object>"
      ]
     },
     "metadata": {},
     "output_type": "display_data"
    },
    {
     "name": "stdout",
     "output_type": "stream",
     "text": [
      "lr: 0.029545404316146145 optimizer: sgd epochs: 100\n"
     ]
    },
    {
     "name": "stderr",
     "output_type": "stream",
     "text": [
      "\u001b[34m\u001b[1mwandb\u001b[0m: \u001b[32m\u001b[41mERROR\u001b[0m The nbformat package was not found. It is required to save notebook history.\n"
     ]
    },
    {
     "data": {
      "text/html": [],
      "text/plain": [
       "<IPython.core.display.HTML object>"
      ]
     },
     "metadata": {},
     "output_type": "display_data"
    },
    {
     "data": {
      "text/html": [
       "<br>    <style><br>        .wandb-row {<br>            display: flex;<br>            flex-direction: row;<br>            flex-wrap: wrap;<br>            justify-content: flex-start;<br>            width: 100%;<br>        }<br>        .wandb-col {<br>            display: flex;<br>            flex-direction: column;<br>            flex-basis: 100%;<br>            flex: 1;<br>            padding: 10px;<br>        }<br>    </style><br><div class=\"wandb-row\"><div class=\"wandb-col\"><h3>Run history:</h3><br/><table class=\"wandb\"><tr><td>accuracy</td><td>▁</td></tr><tr><td>training_loss</td><td>█▆▅▄▄▄▄▄▄▄▄▄▄▄▄▃▃▃▃▃▃▃▃▃▃▃▃▃▃▃▂▂▂▂▂▁▁▁▁▁</td></tr></table><br/></div><div class=\"wandb-col\"><h3>Run summary:</h3><br/><table class=\"wandb\"><tr><td>accuracy</td><td>0.52282</td></tr><tr><td>training_loss</td><td>0.56714</td></tr></table><br/></div></div>"
      ],
      "text/plain": [
       "<IPython.core.display.HTML object>"
      ]
     },
     "metadata": {},
     "output_type": "display_data"
    },
    {
     "data": {
      "text/html": [
       " View run <strong style=\"color:#cdcd00\">smart-sweep-5</strong> at: <a href='https://wandb.ai/glasshan9140/Signal_abnormal_detection/runs/oe53rj0v' target=\"_blank\">https://wandb.ai/glasshan9140/Signal_abnormal_detection/runs/oe53rj0v</a><br> View project at: <a href='https://wandb.ai/glasshan9140/Signal_abnormal_detection' target=\"_blank\">https://wandb.ai/glasshan9140/Signal_abnormal_detection</a><br>Synced 5 W&B file(s), 0 media file(s), 0 artifact file(s) and 0 other file(s)"
      ],
      "text/plain": [
       "<IPython.core.display.HTML object>"
      ]
     },
     "metadata": {},
     "output_type": "display_data"
    },
    {
     "data": {
      "text/html": [
       "Find logs at: <code>.\\wandb\\run-20250812_234235-oe53rj0v\\logs</code>"
      ],
      "text/plain": [
       "<IPython.core.display.HTML object>"
      ]
     },
     "metadata": {},
     "output_type": "display_data"
    },
    {
     "name": "stderr",
     "output_type": "stream",
     "text": [
      "\u001b[34m\u001b[1mwandb\u001b[0m: Sweep Agent: Waiting for job.\n",
      "\u001b[34m\u001b[1mwandb\u001b[0m: Job received.\n",
      "\u001b[34m\u001b[1mwandb\u001b[0m: Agent Starting Run: uhonlqlm with config:\n",
      "\u001b[34m\u001b[1mwandb\u001b[0m: \tepochs: 100\n",
      "\u001b[34m\u001b[1mwandb\u001b[0m: \tlearning_rate: 0.051364742771434053\n",
      "\u001b[34m\u001b[1mwandb\u001b[0m: \toptimizer: adamw\n",
      "\u001b[34m\u001b[1mwandb\u001b[0m: \tthreshold: 95\n"
     ]
    },
    {
     "data": {
      "text/html": [
       "Ignoring project 'Signal_abnormal_detection' when running a sweep."
      ],
      "text/plain": [
       "<IPython.core.display.HTML object>"
      ]
     },
     "metadata": {},
     "output_type": "display_data"
    },
    {
     "data": {
      "text/html": [
       "Tracking run with wandb version 0.21.1"
      ],
      "text/plain": [
       "<IPython.core.display.HTML object>"
      ]
     },
     "metadata": {},
     "output_type": "display_data"
    },
    {
     "data": {
      "text/html": [
       "Run data is saved locally in <code>e:\\glass_git\\ML-DL\\Signal&Table\\cromate_defect_detection\\wandb\\run-20250812_234321-uhonlqlm</code>"
      ],
      "text/plain": [
       "<IPython.core.display.HTML object>"
      ]
     },
     "metadata": {},
     "output_type": "display_data"
    },
    {
     "data": {
      "text/html": [
       "Syncing run <strong><a href='https://wandb.ai/glasshan9140/Signal_abnormal_detection/runs/uhonlqlm' target=\"_blank\">pious-sweep-6</a></strong> to <a href='https://wandb.ai/glasshan9140/Signal_abnormal_detection' target=\"_blank\">Weights & Biases</a> (<a href='https://wandb.me/developer-guide' target=\"_blank\">docs</a>)<br>Sweep page: <a href='https://wandb.ai/glasshan9140/Signal_abnormal_detection/sweeps/3hyg1h1d' target=\"_blank\">https://wandb.ai/glasshan9140/Signal_abnormal_detection/sweeps/3hyg1h1d</a>"
      ],
      "text/plain": [
       "<IPython.core.display.HTML object>"
      ]
     },
     "metadata": {},
     "output_type": "display_data"
    },
    {
     "data": {
      "text/html": [
       " View project at <a href='https://wandb.ai/glasshan9140/Signal_abnormal_detection' target=\"_blank\">https://wandb.ai/glasshan9140/Signal_abnormal_detection</a>"
      ],
      "text/plain": [
       "<IPython.core.display.HTML object>"
      ]
     },
     "metadata": {},
     "output_type": "display_data"
    },
    {
     "data": {
      "text/html": [
       " View sweep at <a href='https://wandb.ai/glasshan9140/Signal_abnormal_detection/sweeps/3hyg1h1d' target=\"_blank\">https://wandb.ai/glasshan9140/Signal_abnormal_detection/sweeps/3hyg1h1d</a>"
      ],
      "text/plain": [
       "<IPython.core.display.HTML object>"
      ]
     },
     "metadata": {},
     "output_type": "display_data"
    },
    {
     "data": {
      "text/html": [
       " View run at <a href='https://wandb.ai/glasshan9140/Signal_abnormal_detection/runs/uhonlqlm' target=\"_blank\">https://wandb.ai/glasshan9140/Signal_abnormal_detection/runs/uhonlqlm</a>"
      ],
      "text/plain": [
       "<IPython.core.display.HTML object>"
      ]
     },
     "metadata": {},
     "output_type": "display_data"
    },
    {
     "name": "stdout",
     "output_type": "stream",
     "text": [
      "lr: 0.051364742771434053 optimizer: adamw epochs: 100\n"
     ]
    },
    {
     "name": "stderr",
     "output_type": "stream",
     "text": [
      "\u001b[34m\u001b[1mwandb\u001b[0m: \u001b[32m\u001b[41mERROR\u001b[0m The nbformat package was not found. It is required to save notebook history.\n"
     ]
    },
    {
     "data": {
      "text/html": [],
      "text/plain": [
       "<IPython.core.display.HTML object>"
      ]
     },
     "metadata": {},
     "output_type": "display_data"
    },
    {
     "data": {
      "text/html": [
       "<br>    <style><br>        .wandb-row {<br>            display: flex;<br>            flex-direction: row;<br>            flex-wrap: wrap;<br>            justify-content: flex-start;<br>            width: 100%;<br>        }<br>        .wandb-col {<br>            display: flex;<br>            flex-direction: column;<br>            flex-basis: 100%;<br>            flex: 1;<br>            padding: 10px;<br>        }<br>    </style><br><div class=\"wandb-row\"><div class=\"wandb-col\"><h3>Run history:</h3><br/><table class=\"wandb\"><tr><td>accuracy</td><td>▁</td></tr><tr><td>training_loss</td><td>▁▅▅▄▄▆▇██▅██▇▇██▅█▇█▇▅▇▅▇▄▇▄▄▄▅▅▄▄▄▄▆▄▄▅</td></tr></table><br/></div><div class=\"wandb-col\"><h3>Run summary:</h3><br/><table class=\"wandb\"><tr><td>accuracy</td><td>0.54938</td></tr><tr><td>training_loss</td><td>0.76137</td></tr></table><br/></div></div>"
      ],
      "text/plain": [
       "<IPython.core.display.HTML object>"
      ]
     },
     "metadata": {},
     "output_type": "display_data"
    },
    {
     "data": {
      "text/html": [
       " View run <strong style=\"color:#cdcd00\">pious-sweep-6</strong> at: <a href='https://wandb.ai/glasshan9140/Signal_abnormal_detection/runs/uhonlqlm' target=\"_blank\">https://wandb.ai/glasshan9140/Signal_abnormal_detection/runs/uhonlqlm</a><br> View project at: <a href='https://wandb.ai/glasshan9140/Signal_abnormal_detection' target=\"_blank\">https://wandb.ai/glasshan9140/Signal_abnormal_detection</a><br>Synced 5 W&B file(s), 0 media file(s), 0 artifact file(s) and 0 other file(s)"
      ],
      "text/plain": [
       "<IPython.core.display.HTML object>"
      ]
     },
     "metadata": {},
     "output_type": "display_data"
    },
    {
     "data": {
      "text/html": [
       "Find logs at: <code>.\\wandb\\run-20250812_234321-uhonlqlm\\logs</code>"
      ],
      "text/plain": [
       "<IPython.core.display.HTML object>"
      ]
     },
     "metadata": {},
     "output_type": "display_data"
    },
    {
     "name": "stderr",
     "output_type": "stream",
     "text": [
      "\u001b[34m\u001b[1mwandb\u001b[0m: Agent Starting Run: 3adztosc with config:\n",
      "\u001b[34m\u001b[1mwandb\u001b[0m: \tepochs: 150\n",
      "\u001b[34m\u001b[1mwandb\u001b[0m: \tlearning_rate: 0.022553010539216232\n",
      "\u001b[34m\u001b[1mwandb\u001b[0m: \toptimizer: sgd\n",
      "\u001b[34m\u001b[1mwandb\u001b[0m: \tthreshold: 95\n"
     ]
    },
    {
     "data": {
      "text/html": [
       "Ignoring project 'Signal_abnormal_detection' when running a sweep."
      ],
      "text/plain": [
       "<IPython.core.display.HTML object>"
      ]
     },
     "metadata": {},
     "output_type": "display_data"
    },
    {
     "data": {
      "text/html": [
       "Tracking run with wandb version 0.21.1"
      ],
      "text/plain": [
       "<IPython.core.display.HTML object>"
      ]
     },
     "metadata": {},
     "output_type": "display_data"
    },
    {
     "data": {
      "text/html": [
       "Run data is saved locally in <code>e:\\glass_git\\ML-DL\\Signal&Table\\cromate_defect_detection\\wandb\\run-20250812_234414-3adztosc</code>"
      ],
      "text/plain": [
       "<IPython.core.display.HTML object>"
      ]
     },
     "metadata": {},
     "output_type": "display_data"
    },
    {
     "data": {
      "text/html": [
       "Syncing run <strong><a href='https://wandb.ai/glasshan9140/Signal_abnormal_detection/runs/3adztosc' target=\"_blank\">earnest-sweep-7</a></strong> to <a href='https://wandb.ai/glasshan9140/Signal_abnormal_detection' target=\"_blank\">Weights & Biases</a> (<a href='https://wandb.me/developer-guide' target=\"_blank\">docs</a>)<br>Sweep page: <a href='https://wandb.ai/glasshan9140/Signal_abnormal_detection/sweeps/3hyg1h1d' target=\"_blank\">https://wandb.ai/glasshan9140/Signal_abnormal_detection/sweeps/3hyg1h1d</a>"
      ],
      "text/plain": [
       "<IPython.core.display.HTML object>"
      ]
     },
     "metadata": {},
     "output_type": "display_data"
    },
    {
     "data": {
      "text/html": [
       " View project at <a href='https://wandb.ai/glasshan9140/Signal_abnormal_detection' target=\"_blank\">https://wandb.ai/glasshan9140/Signal_abnormal_detection</a>"
      ],
      "text/plain": [
       "<IPython.core.display.HTML object>"
      ]
     },
     "metadata": {},
     "output_type": "display_data"
    },
    {
     "data": {
      "text/html": [
       " View sweep at <a href='https://wandb.ai/glasshan9140/Signal_abnormal_detection/sweeps/3hyg1h1d' target=\"_blank\">https://wandb.ai/glasshan9140/Signal_abnormal_detection/sweeps/3hyg1h1d</a>"
      ],
      "text/plain": [
       "<IPython.core.display.HTML object>"
      ]
     },
     "metadata": {},
     "output_type": "display_data"
    },
    {
     "data": {
      "text/html": [
       " View run at <a href='https://wandb.ai/glasshan9140/Signal_abnormal_detection/runs/3adztosc' target=\"_blank\">https://wandb.ai/glasshan9140/Signal_abnormal_detection/runs/3adztosc</a>"
      ],
      "text/plain": [
       "<IPython.core.display.HTML object>"
      ]
     },
     "metadata": {},
     "output_type": "display_data"
    },
    {
     "name": "stdout",
     "output_type": "stream",
     "text": [
      "lr: 0.022553010539216232 optimizer: sgd epochs: 150\n"
     ]
    },
    {
     "name": "stderr",
     "output_type": "stream",
     "text": [
      "\u001b[34m\u001b[1mwandb\u001b[0m: \u001b[32m\u001b[41mERROR\u001b[0m The nbformat package was not found. It is required to save notebook history.\n"
     ]
    },
    {
     "data": {
      "text/html": [],
      "text/plain": [
       "<IPython.core.display.HTML object>"
      ]
     },
     "metadata": {},
     "output_type": "display_data"
    },
    {
     "data": {
      "text/html": [
       "<br>    <style><br>        .wandb-row {<br>            display: flex;<br>            flex-direction: row;<br>            flex-wrap: wrap;<br>            justify-content: flex-start;<br>            width: 100%;<br>        }<br>        .wandb-col {<br>            display: flex;<br>            flex-direction: column;<br>            flex-basis: 100%;<br>            flex: 1;<br>            padding: 10px;<br>        }<br>    </style><br><div class=\"wandb-row\"><div class=\"wandb-col\"><h3>Run history:</h3><br/><table class=\"wandb\"><tr><td>accuracy</td><td>▁</td></tr><tr><td>training_loss</td><td>█▆▅▄▃▂▂▂▂▂▂▂▂▂▂▁▁▁▁▁▁▁▁▁▁▁▁▁▁▁▁▁▁▁▁▁▁▁▁▁</td></tr></table><br/></div><div class=\"wandb-col\"><h3>Run summary:</h3><br/><table class=\"wandb\"><tr><td>accuracy</td><td>0.53278</td></tr><tr><td>training_loss</td><td>0.72364</td></tr></table><br/></div></div>"
      ],
      "text/plain": [
       "<IPython.core.display.HTML object>"
      ]
     },
     "metadata": {},
     "output_type": "display_data"
    },
    {
     "data": {
      "text/html": [
       " View run <strong style=\"color:#cdcd00\">earnest-sweep-7</strong> at: <a href='https://wandb.ai/glasshan9140/Signal_abnormal_detection/runs/3adztosc' target=\"_blank\">https://wandb.ai/glasshan9140/Signal_abnormal_detection/runs/3adztosc</a><br> View project at: <a href='https://wandb.ai/glasshan9140/Signal_abnormal_detection' target=\"_blank\">https://wandb.ai/glasshan9140/Signal_abnormal_detection</a><br>Synced 5 W&B file(s), 0 media file(s), 0 artifact file(s) and 0 other file(s)"
      ],
      "text/plain": [
       "<IPython.core.display.HTML object>"
      ]
     },
     "metadata": {},
     "output_type": "display_data"
    },
    {
     "data": {
      "text/html": [
       "Find logs at: <code>.\\wandb\\run-20250812_234414-3adztosc\\logs</code>"
      ],
      "text/plain": [
       "<IPython.core.display.HTML object>"
      ]
     },
     "metadata": {},
     "output_type": "display_data"
    },
    {
     "name": "stderr",
     "output_type": "stream",
     "text": [
      "\u001b[34m\u001b[1mwandb\u001b[0m: Agent Starting Run: hiroli22 with config:\n",
      "\u001b[34m\u001b[1mwandb\u001b[0m: \tepochs: 50\n",
      "\u001b[34m\u001b[1mwandb\u001b[0m: \tlearning_rate: 0.09430516802285444\n",
      "\u001b[34m\u001b[1mwandb\u001b[0m: \toptimizer: adam\n",
      "\u001b[34m\u001b[1mwandb\u001b[0m: \tthreshold: 95\n"
     ]
    },
    {
     "data": {
      "text/html": [
       "Ignoring project 'Signal_abnormal_detection' when running a sweep."
      ],
      "text/plain": [
       "<IPython.core.display.HTML object>"
      ]
     },
     "metadata": {},
     "output_type": "display_data"
    },
    {
     "data": {
      "text/html": [
       "Tracking run with wandb version 0.21.1"
      ],
      "text/plain": [
       "<IPython.core.display.HTML object>"
      ]
     },
     "metadata": {},
     "output_type": "display_data"
    },
    {
     "data": {
      "text/html": [
       "Run data is saved locally in <code>e:\\glass_git\\ML-DL\\Signal&Table\\cromate_defect_detection\\wandb\\run-20250812_234517-hiroli22</code>"
      ],
      "text/plain": [
       "<IPython.core.display.HTML object>"
      ]
     },
     "metadata": {},
     "output_type": "display_data"
    },
    {
     "data": {
      "text/html": [
       "Syncing run <strong><a href='https://wandb.ai/glasshan9140/Signal_abnormal_detection/runs/hiroli22' target=\"_blank\">colorful-sweep-8</a></strong> to <a href='https://wandb.ai/glasshan9140/Signal_abnormal_detection' target=\"_blank\">Weights & Biases</a> (<a href='https://wandb.me/developer-guide' target=\"_blank\">docs</a>)<br>Sweep page: <a href='https://wandb.ai/glasshan9140/Signal_abnormal_detection/sweeps/3hyg1h1d' target=\"_blank\">https://wandb.ai/glasshan9140/Signal_abnormal_detection/sweeps/3hyg1h1d</a>"
      ],
      "text/plain": [
       "<IPython.core.display.HTML object>"
      ]
     },
     "metadata": {},
     "output_type": "display_data"
    },
    {
     "data": {
      "text/html": [
       " View project at <a href='https://wandb.ai/glasshan9140/Signal_abnormal_detection' target=\"_blank\">https://wandb.ai/glasshan9140/Signal_abnormal_detection</a>"
      ],
      "text/plain": [
       "<IPython.core.display.HTML object>"
      ]
     },
     "metadata": {},
     "output_type": "display_data"
    },
    {
     "data": {
      "text/html": [
       " View sweep at <a href='https://wandb.ai/glasshan9140/Signal_abnormal_detection/sweeps/3hyg1h1d' target=\"_blank\">https://wandb.ai/glasshan9140/Signal_abnormal_detection/sweeps/3hyg1h1d</a>"
      ],
      "text/plain": [
       "<IPython.core.display.HTML object>"
      ]
     },
     "metadata": {},
     "output_type": "display_data"
    },
    {
     "data": {
      "text/html": [
       " View run at <a href='https://wandb.ai/glasshan9140/Signal_abnormal_detection/runs/hiroli22' target=\"_blank\">https://wandb.ai/glasshan9140/Signal_abnormal_detection/runs/hiroli22</a>"
      ],
      "text/plain": [
       "<IPython.core.display.HTML object>"
      ]
     },
     "metadata": {},
     "output_type": "display_data"
    },
    {
     "name": "stdout",
     "output_type": "stream",
     "text": [
      "lr: 0.09430516802285444 optimizer: adam epochs: 50\n"
     ]
    },
    {
     "name": "stderr",
     "output_type": "stream",
     "text": [
      "\u001b[34m\u001b[1mwandb\u001b[0m: \u001b[32m\u001b[41mERROR\u001b[0m The nbformat package was not found. It is required to save notebook history.\n"
     ]
    },
    {
     "data": {
      "text/html": [],
      "text/plain": [
       "<IPython.core.display.HTML object>"
      ]
     },
     "metadata": {},
     "output_type": "display_data"
    },
    {
     "data": {
      "text/html": [
       "<br>    <style><br>        .wandb-row {<br>            display: flex;<br>            flex-direction: row;<br>            flex-wrap: wrap;<br>            justify-content: flex-start;<br>            width: 100%;<br>        }<br>        .wandb-col {<br>            display: flex;<br>            flex-direction: column;<br>            flex-basis: 100%;<br>            flex: 1;<br>            padding: 10px;<br>        }<br>    </style><br><div class=\"wandb-row\"><div class=\"wandb-col\"><h3>Run history:</h3><br/><table class=\"wandb\"><tr><td>accuracy</td><td>▁</td></tr><tr><td>training_loss</td><td>▂▁▁▁▁▂▂▂▂▂▂█████████████████████████████</td></tr></table><br/></div><div class=\"wandb-col\"><h3>Run summary:</h3><br/><table class=\"wandb\"><tr><td>accuracy</td><td>0.53278</td></tr><tr><td>training_loss</td><td>0.9499</td></tr></table><br/></div></div>"
      ],
      "text/plain": [
       "<IPython.core.display.HTML object>"
      ]
     },
     "metadata": {},
     "output_type": "display_data"
    },
    {
     "data": {
      "text/html": [
       " View run <strong style=\"color:#cdcd00\">colorful-sweep-8</strong> at: <a href='https://wandb.ai/glasshan9140/Signal_abnormal_detection/runs/hiroli22' target=\"_blank\">https://wandb.ai/glasshan9140/Signal_abnormal_detection/runs/hiroli22</a><br> View project at: <a href='https://wandb.ai/glasshan9140/Signal_abnormal_detection' target=\"_blank\">https://wandb.ai/glasshan9140/Signal_abnormal_detection</a><br>Synced 5 W&B file(s), 0 media file(s), 0 artifact file(s) and 0 other file(s)"
      ],
      "text/plain": [
       "<IPython.core.display.HTML object>"
      ]
     },
     "metadata": {},
     "output_type": "display_data"
    },
    {
     "data": {
      "text/html": [
       "Find logs at: <code>.\\wandb\\run-20250812_234517-hiroli22\\logs</code>"
      ],
      "text/plain": [
       "<IPython.core.display.HTML object>"
      ]
     },
     "metadata": {},
     "output_type": "display_data"
    },
    {
     "name": "stderr",
     "output_type": "stream",
     "text": [
      "\u001b[34m\u001b[1mwandb\u001b[0m: Agent Starting Run: xc2p3m8k with config:\n",
      "\u001b[34m\u001b[1mwandb\u001b[0m: \tepochs: 100\n",
      "\u001b[34m\u001b[1mwandb\u001b[0m: \tlearning_rate: 0.01510605821143317\n",
      "\u001b[34m\u001b[1mwandb\u001b[0m: \toptimizer: adam\n",
      "\u001b[34m\u001b[1mwandb\u001b[0m: \tthreshold: 95\n"
     ]
    },
    {
     "data": {
      "text/html": [
       "Ignoring project 'Signal_abnormal_detection' when running a sweep."
      ],
      "text/plain": [
       "<IPython.core.display.HTML object>"
      ]
     },
     "metadata": {},
     "output_type": "display_data"
    },
    {
     "data": {
      "text/html": [
       "Tracking run with wandb version 0.21.1"
      ],
      "text/plain": [
       "<IPython.core.display.HTML object>"
      ]
     },
     "metadata": {},
     "output_type": "display_data"
    },
    {
     "data": {
      "text/html": [
       "Run data is saved locally in <code>e:\\glass_git\\ML-DL\\Signal&Table\\cromate_defect_detection\\wandb\\run-20250812_234543-xc2p3m8k</code>"
      ],
      "text/plain": [
       "<IPython.core.display.HTML object>"
      ]
     },
     "metadata": {},
     "output_type": "display_data"
    },
    {
     "data": {
      "text/html": [
       "Syncing run <strong><a href='https://wandb.ai/glasshan9140/Signal_abnormal_detection/runs/xc2p3m8k' target=\"_blank\">northern-sweep-9</a></strong> to <a href='https://wandb.ai/glasshan9140/Signal_abnormal_detection' target=\"_blank\">Weights & Biases</a> (<a href='https://wandb.me/developer-guide' target=\"_blank\">docs</a>)<br>Sweep page: <a href='https://wandb.ai/glasshan9140/Signal_abnormal_detection/sweeps/3hyg1h1d' target=\"_blank\">https://wandb.ai/glasshan9140/Signal_abnormal_detection/sweeps/3hyg1h1d</a>"
      ],
      "text/plain": [
       "<IPython.core.display.HTML object>"
      ]
     },
     "metadata": {},
     "output_type": "display_data"
    },
    {
     "data": {
      "text/html": [
       " View project at <a href='https://wandb.ai/glasshan9140/Signal_abnormal_detection' target=\"_blank\">https://wandb.ai/glasshan9140/Signal_abnormal_detection</a>"
      ],
      "text/plain": [
       "<IPython.core.display.HTML object>"
      ]
     },
     "metadata": {},
     "output_type": "display_data"
    },
    {
     "data": {
      "text/html": [
       " View sweep at <a href='https://wandb.ai/glasshan9140/Signal_abnormal_detection/sweeps/3hyg1h1d' target=\"_blank\">https://wandb.ai/glasshan9140/Signal_abnormal_detection/sweeps/3hyg1h1d</a>"
      ],
      "text/plain": [
       "<IPython.core.display.HTML object>"
      ]
     },
     "metadata": {},
     "output_type": "display_data"
    },
    {
     "data": {
      "text/html": [
       " View run at <a href='https://wandb.ai/glasshan9140/Signal_abnormal_detection/runs/xc2p3m8k' target=\"_blank\">https://wandb.ai/glasshan9140/Signal_abnormal_detection/runs/xc2p3m8k</a>"
      ],
      "text/plain": [
       "<IPython.core.display.HTML object>"
      ]
     },
     "metadata": {},
     "output_type": "display_data"
    },
    {
     "name": "stdout",
     "output_type": "stream",
     "text": [
      "lr: 0.01510605821143317 optimizer: adam epochs: 100\n"
     ]
    },
    {
     "name": "stderr",
     "output_type": "stream",
     "text": [
      "\u001b[34m\u001b[1mwandb\u001b[0m: \u001b[32m\u001b[41mERROR\u001b[0m The nbformat package was not found. It is required to save notebook history.\n"
     ]
    },
    {
     "data": {
      "text/html": [],
      "text/plain": [
       "<IPython.core.display.HTML object>"
      ]
     },
     "metadata": {},
     "output_type": "display_data"
    },
    {
     "data": {
      "text/html": [
       "<br>    <style><br>        .wandb-row {<br>            display: flex;<br>            flex-direction: row;<br>            flex-wrap: wrap;<br>            justify-content: flex-start;<br>            width: 100%;<br>        }<br>        .wandb-col {<br>            display: flex;<br>            flex-direction: column;<br>            flex-basis: 100%;<br>            flex: 1;<br>            padding: 10px;<br>        }<br>    </style><br><div class=\"wandb-row\"><div class=\"wandb-col\"><h3>Run history:</h3><br/><table class=\"wandb\"><tr><td>accuracy</td><td>▁</td></tr><tr><td>training_loss</td><td>▃▄▄▂█▁▁▁▂▂▂▂▇▅▅▅▆▄▅▅▅▅▅▅▅▅▅▅▅▅▅▅▅▅▅▅▅▅▅▅</td></tr></table><br/></div><div class=\"wandb-col\"><h3>Run summary:</h3><br/><table class=\"wandb\"><tr><td>accuracy</td><td>0.53942</td></tr><tr><td>training_loss</td><td>0.79352</td></tr></table><br/></div></div>"
      ],
      "text/plain": [
       "<IPython.core.display.HTML object>"
      ]
     },
     "metadata": {},
     "output_type": "display_data"
    },
    {
     "data": {
      "text/html": [
       " View run <strong style=\"color:#cdcd00\">northern-sweep-9</strong> at: <a href='https://wandb.ai/glasshan9140/Signal_abnormal_detection/runs/xc2p3m8k' target=\"_blank\">https://wandb.ai/glasshan9140/Signal_abnormal_detection/runs/xc2p3m8k</a><br> View project at: <a href='https://wandb.ai/glasshan9140/Signal_abnormal_detection' target=\"_blank\">https://wandb.ai/glasshan9140/Signal_abnormal_detection</a><br>Synced 5 W&B file(s), 0 media file(s), 0 artifact file(s) and 0 other file(s)"
      ],
      "text/plain": [
       "<IPython.core.display.HTML object>"
      ]
     },
     "metadata": {},
     "output_type": "display_data"
    },
    {
     "data": {
      "text/html": [
       "Find logs at: <code>.\\wandb\\run-20250812_234543-xc2p3m8k\\logs</code>"
      ],
      "text/plain": [
       "<IPython.core.display.HTML object>"
      ]
     },
     "metadata": {},
     "output_type": "display_data"
    },
    {
     "name": "stderr",
     "output_type": "stream",
     "text": [
      "\u001b[34m\u001b[1mwandb\u001b[0m: Agent Starting Run: 3906vya6 with config:\n",
      "\u001b[34m\u001b[1mwandb\u001b[0m: \tepochs: 50\n",
      "\u001b[34m\u001b[1mwandb\u001b[0m: \tlearning_rate: 0.08624930681494536\n",
      "\u001b[34m\u001b[1mwandb\u001b[0m: \toptimizer: sgd\n",
      "\u001b[34m\u001b[1mwandb\u001b[0m: \tthreshold: 95\n"
     ]
    },
    {
     "data": {
      "text/html": [
       "Ignoring project 'Signal_abnormal_detection' when running a sweep."
      ],
      "text/plain": [
       "<IPython.core.display.HTML object>"
      ]
     },
     "metadata": {},
     "output_type": "display_data"
    },
    {
     "data": {
      "text/html": [
       "Tracking run with wandb version 0.21.1"
      ],
      "text/plain": [
       "<IPython.core.display.HTML object>"
      ]
     },
     "metadata": {},
     "output_type": "display_data"
    },
    {
     "data": {
      "text/html": [
       "Run data is saved locally in <code>e:\\glass_git\\ML-DL\\Signal&Table\\cromate_defect_detection\\wandb\\run-20250812_234631-3906vya6</code>"
      ],
      "text/plain": [
       "<IPython.core.display.HTML object>"
      ]
     },
     "metadata": {},
     "output_type": "display_data"
    },
    {
     "data": {
      "text/html": [
       "Syncing run <strong><a href='https://wandb.ai/glasshan9140/Signal_abnormal_detection/runs/3906vya6' target=\"_blank\">graceful-sweep-10</a></strong> to <a href='https://wandb.ai/glasshan9140/Signal_abnormal_detection' target=\"_blank\">Weights & Biases</a> (<a href='https://wandb.me/developer-guide' target=\"_blank\">docs</a>)<br>Sweep page: <a href='https://wandb.ai/glasshan9140/Signal_abnormal_detection/sweeps/3hyg1h1d' target=\"_blank\">https://wandb.ai/glasshan9140/Signal_abnormal_detection/sweeps/3hyg1h1d</a>"
      ],
      "text/plain": [
       "<IPython.core.display.HTML object>"
      ]
     },
     "metadata": {},
     "output_type": "display_data"
    },
    {
     "data": {
      "text/html": [
       " View project at <a href='https://wandb.ai/glasshan9140/Signal_abnormal_detection' target=\"_blank\">https://wandb.ai/glasshan9140/Signal_abnormal_detection</a>"
      ],
      "text/plain": [
       "<IPython.core.display.HTML object>"
      ]
     },
     "metadata": {},
     "output_type": "display_data"
    },
    {
     "data": {
      "text/html": [
       " View sweep at <a href='https://wandb.ai/glasshan9140/Signal_abnormal_detection/sweeps/3hyg1h1d' target=\"_blank\">https://wandb.ai/glasshan9140/Signal_abnormal_detection/sweeps/3hyg1h1d</a>"
      ],
      "text/plain": [
       "<IPython.core.display.HTML object>"
      ]
     },
     "metadata": {},
     "output_type": "display_data"
    },
    {
     "data": {
      "text/html": [
       " View run at <a href='https://wandb.ai/glasshan9140/Signal_abnormal_detection/runs/3906vya6' target=\"_blank\">https://wandb.ai/glasshan9140/Signal_abnormal_detection/runs/3906vya6</a>"
      ],
      "text/plain": [
       "<IPython.core.display.HTML object>"
      ]
     },
     "metadata": {},
     "output_type": "display_data"
    },
    {
     "name": "stdout",
     "output_type": "stream",
     "text": [
      "lr: 0.08624930681494536 optimizer: sgd epochs: 50\n"
     ]
    },
    {
     "name": "stderr",
     "output_type": "stream",
     "text": [
      "\u001b[34m\u001b[1mwandb\u001b[0m: \u001b[32m\u001b[41mERROR\u001b[0m The nbformat package was not found. It is required to save notebook history.\n"
     ]
    },
    {
     "data": {
      "text/html": [],
      "text/plain": [
       "<IPython.core.display.HTML object>"
      ]
     },
     "metadata": {},
     "output_type": "display_data"
    },
    {
     "data": {
      "text/html": [
       "<br>    <style><br>        .wandb-row {<br>            display: flex;<br>            flex-direction: row;<br>            flex-wrap: wrap;<br>            justify-content: flex-start;<br>            width: 100%;<br>        }<br>        .wandb-col {<br>            display: flex;<br>            flex-direction: column;<br>            flex-basis: 100%;<br>            flex: 1;<br>            padding: 10px;<br>        }<br>    </style><br><div class=\"wandb-row\"><div class=\"wandb-col\"><h3>Run history:</h3><br/><table class=\"wandb\"><tr><td>accuracy</td><td>▁</td></tr><tr><td>training_loss</td><td>█▄▂▂▁▁▁▁▁▁▁▁▁▁▁▁▁▁▁▁▁▁▁▁▁▁▁▁▁▁▁▁▁▁▁▁▁▁▁▁</td></tr></table><br/></div><div class=\"wandb-col\"><h3>Run summary:</h3><br/><table class=\"wandb\"><tr><td>accuracy</td><td>0.52282</td></tr><tr><td>training_loss</td><td>0.66667</td></tr></table><br/></div></div>"
      ],
      "text/plain": [
       "<IPython.core.display.HTML object>"
      ]
     },
     "metadata": {},
     "output_type": "display_data"
    },
    {
     "data": {
      "text/html": [
       " View run <strong style=\"color:#cdcd00\">graceful-sweep-10</strong> at: <a href='https://wandb.ai/glasshan9140/Signal_abnormal_detection/runs/3906vya6' target=\"_blank\">https://wandb.ai/glasshan9140/Signal_abnormal_detection/runs/3906vya6</a><br> View project at: <a href='https://wandb.ai/glasshan9140/Signal_abnormal_detection' target=\"_blank\">https://wandb.ai/glasshan9140/Signal_abnormal_detection</a><br>Synced 5 W&B file(s), 0 media file(s), 0 artifact file(s) and 0 other file(s)"
      ],
      "text/plain": [
       "<IPython.core.display.HTML object>"
      ]
     },
     "metadata": {},
     "output_type": "display_data"
    },
    {
     "data": {
      "text/html": [
       "Find logs at: <code>.\\wandb\\run-20250812_234631-3906vya6\\logs</code>"
      ],
      "text/plain": [
       "<IPython.core.display.HTML object>"
      ]
     },
     "metadata": {},
     "output_type": "display_data"
    }
   ],
   "source": [
    "import wandb as wb\n",
    "\n",
    "def autoencoder_train(scaled_x_train, scaled_x_test, test_df, test_lot_index, features):\n",
    "    with wb.init(project='Signal_abnormal_detection') as run:\n",
    "        cfg = run.config\n",
    "\n",
    "        # 안전하게 기본값 부여\n",
    "        lr       = getattr(cfg, \"learning_rate\", 1e-3)\n",
    "        epochs   = int(getattr(cfg, \"epochs\", 50))\n",
    "        opt_name = getattr(cfg, \"optimizer\", \"adam\")\n",
    "        thr_pct  = float(getattr(cfg, \"threshold\", 95))\n",
    "\n",
    "        wb.log({\"test_lot_index\": test_lot_index, \"features\": features})\n",
    "\n",
    "        scaled_x_train = torch.tensor(scaled_x_train, dtype=torch.float32)\n",
    "        scaled_x_test  = torch.tensor(scaled_x_test,  dtype=torch.float32)\n",
    "\n",
    "        train_loader = DataLoader(TensorDataset(scaled_x_train), batch_size=256, shuffle=False)\n",
    "\n",
    "        # AE는 입력/출력 차원 동일해야 함!\n",
    "        model = Autoencoder(input_dim=scaled_x_train.shape[1], output_dim=1)\n",
    "\n",
    "        criterion = nn.MSELoss()\n",
    "        if opt_name == \"adam\":\n",
    "            optimizer = optim.Adam(model.parameters(), lr=lr)\n",
    "        elif opt_name == \"sgd\":\n",
    "            optimizer = optim.SGD(model.parameters(), lr=lr)\n",
    "        elif opt_name == \"adamw\":\n",
    "            optimizer = optim.AdamW(model.parameters(), lr=lr)\n",
    "        else:\n",
    "            raise ValueError(f\"Unknown optimizer: {opt_name}\")\n",
    "\n",
    "        # 디버그 출력\n",
    "        print(\"lr:\", lr, \"optimizer:\", opt_name, \"epochs:\", epochs)\n",
    "\n",
    "        # train\n",
    "        for _ in range(epochs):\n",
    "            epoch_loss = 0.0\n",
    "            for (xb,) in train_loader:\n",
    "                optimizer.zero_grad()\n",
    "                out  = model(xb)\n",
    "                loss = criterion(out, xb)\n",
    "                loss.backward()\n",
    "                optimizer.step()\n",
    "                epoch_loss += loss.item()\n",
    "            wb.log({\"training_loss\": epoch_loss / max(1, len(train_loader))})\n",
    "\n",
    "        # reconstruction error (테스트셋)\n",
    "        with torch.no_grad():\n",
    "            recon  = model(scaled_x_test)\n",
    "            errors = torch.mean((scaled_x_test - recon) ** 2, dim=1).numpy()\n",
    "            wb.use_artifact({\"reconstruction_error\": epoch_loss / max(1, len(train_loader))})\n",
    "\n",
    "        # 임계값: 퍼센타일(예: 95) — 보통은 \"정상 데이터\"의 error 분포에서 뽑는 걸 권장\n",
    "        threshold = np.percentile(errors, thr_pct)\n",
    "        AE_pred = (errors > threshold).astype(int)\n",
    "\n",
    "        acc = accuracy_score(test_df[target], AE_pred)  # target 변수가 전역/상위에서 정의되어 있어야 함\n",
    "        wb.log({\"accuracy\": acc})\n",
    "\n",
    "# --- 스윕 설정 ---\n",
    "sweep_configuration = {\n",
    "    \"method\": \"random\",\n",
    "    \"metric\": {\"goal\": \"maximize\", \"name\": \"accuracy\"},\n",
    "    \"parameters\": {\n",
    "        \"optimizer\": {\"values\": [\"adam\", \"sgd\", \"adamw\"]},\n",
    "        \"learning_rate\": {\"min\": 1e-4, \"max\": 1e-1},\n",
    "        \"epochs\": {\"values\": [50, 100, 150]},\n",
    "        \"threshold\": {\"values\": [95]},\n",
    "    },\n",
    "}\n",
    "\n",
    "# 샘플링/데이터 준비\n",
    "scaled_x_train, scaled_x_test, test_df, test_lot_index, features = sampling(ddf, normal_df, abnormal_df, features)\n",
    "\n",
    "# 0-인자 함수(클로저)로 감싸서 전달!\n",
    "trainer_fn = lambda: autoencoder_train(scaled_x_train, scaled_x_test, test_df, test_lot_index, features)\n",
    "\n",
    "sweep_id = wb.sweep(sweep=sweep_configuration, project=\"Signal_abnormal_detection\")\n",
    "wb.agent(sweep_id, function=trainer_fn, count=10)\n"
   ]
  },
  {
   "cell_type": "code",
   "execution_count": null,
   "id": "a01c4c4b",
   "metadata": {},
   "outputs": [],
   "source": [
    "\n",
    "\n",
    "def autoencoder_train(scaled_x_train, scaled_x_test,test_df):\n",
    "    #Autoencoder\n",
    "    scaled_x_train = torch.tensor(scaled_x_train, dtype=torch.float32)  # 변환\n",
    "    train_loader = DataLoader(TensorDataset(scaled_x_train), batch_size=256, shuffle=False)\n",
    "    model = Autoencoder()\n",
    "    criterion = nn.MSELoss()\n",
    "    optimizer = optim.Adam(model.parameters(), lr=0.01)\n",
    "\n",
    "    # train\n",
    "    for epoch in range(50):\n",
    "        for i,data in enumerate(train_loader):\n",
    "            optimizer.zero_grad()\n",
    "            outputs = model(data[0])\n",
    "            loss = criterion(outputs, data[0])\n",
    "            loss.backward()\n",
    "            optimizer.step()\n",
    "\n",
    "    #reconstruciont error\n",
    "    X_test = torch.tensor(scaled_x_test, dtype=torch.float32)\n",
    "\n",
    "    with torch.no_grad():\n",
    "        recon = model(X_test)\n",
    "        errors = torch.mean((X_test - recon) ** 2, dim=1)  # MSE per sample\n",
    "        wb.log({\"AE_loss\": errors})\n",
    "\n",
    "    # threhold (정상 데이터 기준 99% 분위수)\n",
    "    threshold = np.percentile(errors[:len(scaled_x_train)], 85)\n",
    "    AE_pred = (errors > threshold).int()\n",
    "\n",
    "    acc=accuracy_score(test_df[target], AE_pred)\n",
    "    return acc*100\n",
    "\n",
    "def deepsvdd_train(scaled_x_train, scaled_x_test, test_df):\n",
    "    scaled_x_train = torch.tensor(scaled_x_train, dtype=torch.float32)  # 변환\n",
    "    train_loader = DataLoader(TensorDataset(scaled_x_train), batch_size=256, shuffle=False)\n",
    "    X_test = torch.tensor(scaled_x_test, dtype=torch.float32)\n",
    "    # ---- Choose objective ----\n",
    "    deepsvdd = DeepSVDD(in_dim=9, rep_dim=16, objective=\"one-class\")             # hard-boundary\n",
    "    # deepsvdd = DeepSVDD(in_dim=9, rep_dim=16, objective=\"soft-boundary\", nu=0.05)  # soft-boundary\n",
    "\n",
    "    deepsvdd.fit(train_loader, lr=1e-3, weight_decay=1e-6, epochs=50, R_update_freq=5)\n",
    "    if deepsvdd.objective == \"one-class\":\n",
    "        # 학습 분포의 95% 분위수를 임계값으로\n",
    "        with torch.no_grad():\n",
    "                s_train = deepsvdd.score(scaled_x_train)\n",
    "        thr = torch.quantile(s_train, 0.97).item()\n",
    "        y_pred, _ = deepsvdd.predict(X_test, threshold=thr)\n",
    "        deepsvdd_pred= y_pred\n",
    "\n",
    "    deepsvdd_thr_pred = (deepsvdd_pred > thr).int()\n",
    "    acc=accuracy_score(test_df[target], deepsvdd_thr_pred)\n",
    "    return acc*100\n",
    "\n",
    "\n",
    "\n"
   ]
  },
  {
   "cell_type": "code",
   "execution_count": null,
   "id": "03dcc298",
   "metadata": {},
   "outputs": [],
   "source": [
    "# X=ddf.drop(columns=['class'])\n",
    "# y=ddf['class']\n",
    "# clf = ExtraTreesClassifier(n_estimators=5000, random_state=42, n_jobs=-1)\n",
    "# clf = clf.fit(X, y)\n",
    "# clf.feature_importances_  \n",
    "\n",
    "# tree_importance_sorted_idx = np.argsort(clf.feature_importances_)\n",
    "# best_df=ddf[:][tree_importance_sorted_idx[:100]]\n",
    "# best_df.head()\n",
    "\n",
    "# feature importance 시각화\n",
    "# import matplotlib.pyplot as plt\n",
    "# import numpy as np\n",
    "# import pandas as pd\n",
    "# import matplotlib\n",
    "# from sklearn.inspection import permutation_importance\n",
    "# from sklearn.utils.fixes import parse_version\n",
    "\n",
    "# def plot_permutation_importance(clf, X, y, ax):\n",
    "#     result = permutation_importance(clf, X, y, n_repeats=10, random_state=42, n_jobs=-1)\n",
    "#     perm_sorted_idx = result.importances_mean.argsort()\n",
    "\n",
    "#     # `labels` argument in boxplot is deprecated in matplotlib 3.9 and has been\n",
    "#     # renamed to `tick_labels`. The following code handles this, but as a\n",
    "#     # scikit-learn user you probably can write simpler code by using `labels=...`\n",
    "#     # (matplotlib < 3.9) or `tick_labels=...` (matplotlib >= 3.9).\n",
    "#     tick_labels_parameter_name = (\n",
    "#         \"tick_labels\"\n",
    "#         if parse_version(matplotlib.__version__) >= parse_version(\"3.9\")\n",
    "#         else \"labels\"\n",
    "#     )\n",
    "#     tick_labels_dict = {tick_labels_parameter_name: X.columns[perm_sorted_idx]}\n",
    "#     ax.boxplot(result.importances[perm_sorted_idx].T, vert=False, **tick_labels_dict)\n",
    "#     ax.axvline(x=0, color=\"k\", linestyle=\"--\")\n",
    "#     return ax\n",
    "\n",
    "# mdi_importances = pd.Series(clf.feature_importances_, index=X.columns)\n",
    "# tree_importance_sorted_idx = np.argsort(clf.feature_importances_)\n",
    "\n",
    "# fig, (ax1, ax2) = plt.subplots(1, 2, figsize=(12, 50))\n",
    "# mdi_importances.sort_values().plot.barh(ax=ax1)\n",
    "# ax1.set_xlabel(\"Gini importance\")\n",
    "# plot_permutation_importance(clf, X, y, ax2)\n",
    "# ax2.set_xlabel(\"Decrease in accuracy score\")\n",
    "# fig.suptitle(\n",
    "#     \"Impurity-based vs. permutation importances on multicollinear features (train set)\"\n",
    "# )\n",
    "# _ = fig.tight_layout()"
   ]
  },
  {
   "cell_type": "code",
   "execution_count": 15,
   "id": "54cd0397",
   "metadata": {},
   "outputs": [
    {
     "name": "stdout",
     "output_type": "stream",
     "text": [
      "['pH', 'Temp', 'Voltage', 'run_time', 'month', 'day', 'hour', 'minutes', 'seconds', 'pH Temp', 'pH Voltage', 'pH run_time', 'Temp Voltage', 'Temp run_time', 'Voltage run_time', 'pH Temp Voltage', 'pH Temp run_time', 'pH Voltage run_time', 'Temp Voltage run_time', 'tnse1', 'tsne2', 'Lot']\n"
     ]
    },
    {
     "data": {
      "text/plain": [
       "{'deepsvdd': [],\n",
       " 'autoencoder': [56.79933665008292,\n",
       "  57.759336099585056,\n",
       "  56.666666666666664,\n",
       "  49.12427022518766,\n",
       "  47.9933110367893,\n",
       "  55.730897009966775,\n",
       "  50.91362126245848,\n",
       "  56.390977443609025,\n",
       "  48.53801169590643,\n",
       "  53.79482902418682]}"
      ]
     },
     "execution_count": 15,
     "metadata": {},
     "output_type": "execute_result"
    }
   ],
   "source": [
    "reuslts={'deepsvdd':[], 'autoencoder':[]}\n",
    "features=ddf.columns.tolist()\n",
    "features.remove('class')  \n",
    "print(features)\n",
    "\n",
    "for i in range(10): \n",
    "    scaled_x_train,scaled_x_test,test_df=sampling(ddf,normal_df,abnormal_df,features)\n",
    "    # deepsvdd_acc=deepsvdd_train(scaled_x_train, scaled_x_test, test_df)\n",
    "    ae_acc=autoencoder_train(scaled_x_train, scaled_x_test,test_df)\n",
    "    # reuslts['deepsvdd'].append(deepsvdd_acc)\n",
    "    reuslts['autoencoder'].append(ae_acc)\n",
    "    wb.log({\"Accuracy\": ae_acc})\n",
    "reuslts"
   ]
  }
 ],
 "metadata": {
  "kernelspec": {
   "display_name": "glass_env",
   "language": "python",
   "name": "python3"
  },
  "language_info": {
   "codemirror_mode": {
    "name": "ipython",
    "version": 3
   },
   "file_extension": ".py",
   "mimetype": "text/x-python",
   "name": "python",
   "nbconvert_exporter": "python",
   "pygments_lexer": "ipython3",
   "version": "3.9.23"
  }
 },
 "nbformat": 4,
 "nbformat_minor": 5
}
